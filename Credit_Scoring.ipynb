{
 "cells": [
  {
   "cell_type": "markdown",
   "metadata": {},
   "source": [
    "# Machine learning methods for credit scoring  "
   ]
  },
  {
   "cell_type": "markdown",
   "metadata": {},
   "source": [
    "Project developed by Gianmaria Carnazzi (August 2019)"
   ]
  },
  {
   "cell_type": "code",
   "execution_count": 1,
   "metadata": {},
   "outputs": [],
   "source": [
    "%matplotlib inline "
   ]
  },
  {
   "cell_type": "code",
   "execution_count": 2,
   "metadata": {},
   "outputs": [],
   "source": [
    "import pandas as pd\n",
    "import numpy as np\n",
    "import matplotlib.pyplot as plt\n",
    "import seaborn as sns"
   ]
  },
  {
   "cell_type": "code",
   "execution_count": 3,
   "metadata": {},
   "outputs": [],
   "source": [
    "pd.set_option('display.max_columns', None)"
   ]
  },
  {
   "cell_type": "code",
   "execution_count": 83,
   "metadata": {},
   "outputs": [],
   "source": [
    "df = pd.read_csv('hmeq.csv') "
   ]
  },
  {
   "cell_type": "code",
   "execution_count": 5,
   "metadata": {},
   "outputs": [
    {
     "data": {
      "text/html": [
       "<div>\n",
       "<style scoped>\n",
       "    .dataframe tbody tr th:only-of-type {\n",
       "        vertical-align: middle;\n",
       "    }\n",
       "\n",
       "    .dataframe tbody tr th {\n",
       "        vertical-align: top;\n",
       "    }\n",
       "\n",
       "    .dataframe thead th {\n",
       "        text-align: right;\n",
       "    }\n",
       "</style>\n",
       "<table border=\"1\" class=\"dataframe\">\n",
       "  <thead>\n",
       "    <tr style=\"text-align: right;\">\n",
       "      <th></th>\n",
       "      <th>BAD</th>\n",
       "      <th>LOAN</th>\n",
       "      <th>MORTDUE</th>\n",
       "      <th>VALUE</th>\n",
       "      <th>REASON</th>\n",
       "      <th>JOB</th>\n",
       "      <th>YOJ</th>\n",
       "      <th>DEROG</th>\n",
       "      <th>DELINQ</th>\n",
       "      <th>CLAGE</th>\n",
       "      <th>NINQ</th>\n",
       "      <th>CLNO</th>\n",
       "      <th>DEBTINC</th>\n",
       "    </tr>\n",
       "  </thead>\n",
       "  <tbody>\n",
       "    <tr>\n",
       "      <td>0</td>\n",
       "      <td>1</td>\n",
       "      <td>1100</td>\n",
       "      <td>25860.0</td>\n",
       "      <td>39025.0</td>\n",
       "      <td>HomeImp</td>\n",
       "      <td>Other</td>\n",
       "      <td>10.5</td>\n",
       "      <td>0.0</td>\n",
       "      <td>0.0</td>\n",
       "      <td>94.366667</td>\n",
       "      <td>1.0</td>\n",
       "      <td>9.0</td>\n",
       "      <td>NaN</td>\n",
       "    </tr>\n",
       "    <tr>\n",
       "      <td>1</td>\n",
       "      <td>1</td>\n",
       "      <td>1300</td>\n",
       "      <td>70053.0</td>\n",
       "      <td>68400.0</td>\n",
       "      <td>HomeImp</td>\n",
       "      <td>Other</td>\n",
       "      <td>7.0</td>\n",
       "      <td>0.0</td>\n",
       "      <td>2.0</td>\n",
       "      <td>121.833333</td>\n",
       "      <td>0.0</td>\n",
       "      <td>14.0</td>\n",
       "      <td>NaN</td>\n",
       "    </tr>\n",
       "    <tr>\n",
       "      <td>2</td>\n",
       "      <td>1</td>\n",
       "      <td>1500</td>\n",
       "      <td>13500.0</td>\n",
       "      <td>16700.0</td>\n",
       "      <td>HomeImp</td>\n",
       "      <td>Other</td>\n",
       "      <td>4.0</td>\n",
       "      <td>0.0</td>\n",
       "      <td>0.0</td>\n",
       "      <td>149.466667</td>\n",
       "      <td>1.0</td>\n",
       "      <td>10.0</td>\n",
       "      <td>NaN</td>\n",
       "    </tr>\n",
       "    <tr>\n",
       "      <td>3</td>\n",
       "      <td>1</td>\n",
       "      <td>1500</td>\n",
       "      <td>NaN</td>\n",
       "      <td>NaN</td>\n",
       "      <td>NaN</td>\n",
       "      <td>NaN</td>\n",
       "      <td>NaN</td>\n",
       "      <td>NaN</td>\n",
       "      <td>NaN</td>\n",
       "      <td>NaN</td>\n",
       "      <td>NaN</td>\n",
       "      <td>NaN</td>\n",
       "      <td>NaN</td>\n",
       "    </tr>\n",
       "    <tr>\n",
       "      <td>4</td>\n",
       "      <td>0</td>\n",
       "      <td>1700</td>\n",
       "      <td>97800.0</td>\n",
       "      <td>112000.0</td>\n",
       "      <td>HomeImp</td>\n",
       "      <td>Office</td>\n",
       "      <td>3.0</td>\n",
       "      <td>0.0</td>\n",
       "      <td>0.0</td>\n",
       "      <td>93.333333</td>\n",
       "      <td>0.0</td>\n",
       "      <td>14.0</td>\n",
       "      <td>NaN</td>\n",
       "    </tr>\n",
       "    <tr>\n",
       "      <td>...</td>\n",
       "      <td>...</td>\n",
       "      <td>...</td>\n",
       "      <td>...</td>\n",
       "      <td>...</td>\n",
       "      <td>...</td>\n",
       "      <td>...</td>\n",
       "      <td>...</td>\n",
       "      <td>...</td>\n",
       "      <td>...</td>\n",
       "      <td>...</td>\n",
       "      <td>...</td>\n",
       "      <td>...</td>\n",
       "      <td>...</td>\n",
       "    </tr>\n",
       "    <tr>\n",
       "      <td>5955</td>\n",
       "      <td>0</td>\n",
       "      <td>88900</td>\n",
       "      <td>57264.0</td>\n",
       "      <td>90185.0</td>\n",
       "      <td>DebtCon</td>\n",
       "      <td>Other</td>\n",
       "      <td>16.0</td>\n",
       "      <td>0.0</td>\n",
       "      <td>0.0</td>\n",
       "      <td>221.808717</td>\n",
       "      <td>0.0</td>\n",
       "      <td>16.0</td>\n",
       "      <td>36.112347</td>\n",
       "    </tr>\n",
       "    <tr>\n",
       "      <td>5956</td>\n",
       "      <td>0</td>\n",
       "      <td>89000</td>\n",
       "      <td>54576.0</td>\n",
       "      <td>92937.0</td>\n",
       "      <td>DebtCon</td>\n",
       "      <td>Other</td>\n",
       "      <td>16.0</td>\n",
       "      <td>0.0</td>\n",
       "      <td>0.0</td>\n",
       "      <td>208.692070</td>\n",
       "      <td>0.0</td>\n",
       "      <td>15.0</td>\n",
       "      <td>35.859971</td>\n",
       "    </tr>\n",
       "    <tr>\n",
       "      <td>5957</td>\n",
       "      <td>0</td>\n",
       "      <td>89200</td>\n",
       "      <td>54045.0</td>\n",
       "      <td>92924.0</td>\n",
       "      <td>DebtCon</td>\n",
       "      <td>Other</td>\n",
       "      <td>15.0</td>\n",
       "      <td>0.0</td>\n",
       "      <td>0.0</td>\n",
       "      <td>212.279697</td>\n",
       "      <td>0.0</td>\n",
       "      <td>15.0</td>\n",
       "      <td>35.556590</td>\n",
       "    </tr>\n",
       "    <tr>\n",
       "      <td>5958</td>\n",
       "      <td>0</td>\n",
       "      <td>89800</td>\n",
       "      <td>50370.0</td>\n",
       "      <td>91861.0</td>\n",
       "      <td>DebtCon</td>\n",
       "      <td>Other</td>\n",
       "      <td>14.0</td>\n",
       "      <td>0.0</td>\n",
       "      <td>0.0</td>\n",
       "      <td>213.892709</td>\n",
       "      <td>0.0</td>\n",
       "      <td>16.0</td>\n",
       "      <td>34.340882</td>\n",
       "    </tr>\n",
       "    <tr>\n",
       "      <td>5959</td>\n",
       "      <td>0</td>\n",
       "      <td>89900</td>\n",
       "      <td>48811.0</td>\n",
       "      <td>88934.0</td>\n",
       "      <td>DebtCon</td>\n",
       "      <td>Other</td>\n",
       "      <td>15.0</td>\n",
       "      <td>0.0</td>\n",
       "      <td>0.0</td>\n",
       "      <td>219.601002</td>\n",
       "      <td>0.0</td>\n",
       "      <td>16.0</td>\n",
       "      <td>34.571519</td>\n",
       "    </tr>\n",
       "  </tbody>\n",
       "</table>\n",
       "<p>5960 rows × 13 columns</p>\n",
       "</div>"
      ],
      "text/plain": [
       "      BAD   LOAN  MORTDUE     VALUE   REASON     JOB   YOJ  DEROG  DELINQ  \\\n",
       "0       1   1100  25860.0   39025.0  HomeImp   Other  10.5    0.0     0.0   \n",
       "1       1   1300  70053.0   68400.0  HomeImp   Other   7.0    0.0     2.0   \n",
       "2       1   1500  13500.0   16700.0  HomeImp   Other   4.0    0.0     0.0   \n",
       "3       1   1500      NaN       NaN      NaN     NaN   NaN    NaN     NaN   \n",
       "4       0   1700  97800.0  112000.0  HomeImp  Office   3.0    0.0     0.0   \n",
       "...   ...    ...      ...       ...      ...     ...   ...    ...     ...   \n",
       "5955    0  88900  57264.0   90185.0  DebtCon   Other  16.0    0.0     0.0   \n",
       "5956    0  89000  54576.0   92937.0  DebtCon   Other  16.0    0.0     0.0   \n",
       "5957    0  89200  54045.0   92924.0  DebtCon   Other  15.0    0.0     0.0   \n",
       "5958    0  89800  50370.0   91861.0  DebtCon   Other  14.0    0.0     0.0   \n",
       "5959    0  89900  48811.0   88934.0  DebtCon   Other  15.0    0.0     0.0   \n",
       "\n",
       "           CLAGE  NINQ  CLNO    DEBTINC  \n",
       "0      94.366667   1.0   9.0        NaN  \n",
       "1     121.833333   0.0  14.0        NaN  \n",
       "2     149.466667   1.0  10.0        NaN  \n",
       "3            NaN   NaN   NaN        NaN  \n",
       "4      93.333333   0.0  14.0        NaN  \n",
       "...          ...   ...   ...        ...  \n",
       "5955  221.808717   0.0  16.0  36.112347  \n",
       "5956  208.692070   0.0  15.0  35.859971  \n",
       "5957  212.279697   0.0  15.0  35.556590  \n",
       "5958  213.892709   0.0  16.0  34.340882  \n",
       "5959  219.601002   0.0  16.0  34.571519  \n",
       "\n",
       "[5960 rows x 13 columns]"
      ]
     },
     "execution_count": 5,
     "metadata": {},
     "output_type": "execute_result"
    }
   ],
   "source": [
    "df"
   ]
  },
  {
   "cell_type": "code",
   "execution_count": 6,
   "metadata": {},
   "outputs": [
    {
     "name": "stdout",
     "output_type": "stream",
     "text": [
      "<class 'pandas.core.frame.DataFrame'>\n",
      "RangeIndex: 5960 entries, 0 to 5959\n",
      "Data columns (total 13 columns):\n",
      "BAD        5960 non-null int64\n",
      "LOAN       5960 non-null int64\n",
      "MORTDUE    5442 non-null float64\n",
      "VALUE      5848 non-null float64\n",
      "REASON     5708 non-null object\n",
      "JOB        5681 non-null object\n",
      "YOJ        5445 non-null float64\n",
      "DEROG      5252 non-null float64\n",
      "DELINQ     5380 non-null float64\n",
      "CLAGE      5652 non-null float64\n",
      "NINQ       5450 non-null float64\n",
      "CLNO       5738 non-null float64\n",
      "DEBTINC    4693 non-null float64\n",
      "dtypes: float64(9), int64(2), object(2)\n",
      "memory usage: 605.4+ KB\n"
     ]
    }
   ],
   "source": [
    "df.info()"
   ]
  },
  {
   "cell_type": "code",
   "execution_count": 7,
   "metadata": {},
   "outputs": [],
   "source": [
    "numerical_columns = ['LOAN', 'MORTDUE', 'VALUE', 'YOJ', 'DEROG', 'DELINQ', 'CLAGE','NINQ', 'CLNO', 'DEBTINC'] "
   ]
  },
  {
   "cell_type": "markdown",
   "metadata": {},
   "source": [
    "## Data Visualization  "
   ]
  },
  {
   "cell_type": "markdown",
   "metadata": {},
   "source": [
    "### Univariate Analysis "
   ]
  },
  {
   "cell_type": "code",
   "execution_count": 8,
   "metadata": {},
   "outputs": [
    {
     "data": {
      "text/plain": [
       "0    4771\n",
       "1    1189\n",
       "Name: BAD, dtype: int64"
      ]
     },
     "execution_count": 8,
     "metadata": {},
     "output_type": "execute_result"
    },
    {
     "data": {
      "image/png": "[encoded data removed]",
      "text/plain": [
       "<Figure size 432x288 with 1 Axes>"
      ]
     },
     "metadata": {
      "needs_background": "light"
     },
     "output_type": "display_data"
    }
   ],
   "source": [
    "sns.countplot(df['BAD'])\n",
    "df['BAD'].value_counts()"
   ]
  },
  {
   "cell_type": "code",
   "execution_count": 9,
   "metadata": {},
   "outputs": [
    {
     "data": {
      "text/plain": [
       "DebtCon    3928\n",
       "HomeImp    1780\n",
       "Name: REASON, dtype: int64"
      ]
     },
     "execution_count": 9,
     "metadata": {},
     "output_type": "execute_result"
    },
    {
     "data": {
      "image/png": "[encoded data removed]",
      "text/plain": [
       "<Figure size 432x288 with 1 Axes>"
      ]
     },
     "metadata": {
      "needs_background": "light"
     },
     "output_type": "display_data"
    }
   ],
   "source": [
    "sns.countplot(df['REASON'])\n",
    "df['REASON'].value_counts()"
   ]
  },
  {
   "cell_type": "code",
   "execution_count": 10,
   "metadata": {},
   "outputs": [
    {
     "data": {
      "text/plain": [
       "Other      2388\n",
       "ProfExe    1276\n",
       "Office      948\n",
       "Mgr         767\n",
       "Self        193\n",
       "Sales       109\n",
       "Name: JOB, dtype: int64"
      ]
     },
     "execution_count": 10,
     "metadata": {},
     "output_type": "execute_result"
    },
    {
     "data": {
      "image/png": "[encoded data removed]",
      "text/plain": [
       "<Figure size 432x288 with 1 Axes>"
      ]
     },
     "metadata": {
      "needs_background": "light"
     },
     "output_type": "display_data"
    }
   ],
   "source": [
    "sns.countplot(df['JOB'])\n",
    "df['JOB'].value_counts()"
   ]
  },
  {
   "cell_type": "code",
   "execution_count": 11,
   "metadata": {},
   "outputs": [
    {
     "name": "stderr",
     "output_type": "stream",
     "text": [
      "C:\\Users\\giamm\\Anaconda3.1\\lib\\site-packages\\statsmodels\\nonparametric\\kde.py:447: RuntimeWarning: invalid value encountered in greater\n",
      "  X = X[np.logical_and(X > clip[0], X < clip[1])] # won't work for two columns.\n",
      "C:\\Users\\giamm\\Anaconda3.1\\lib\\site-packages\\statsmodels\\nonparametric\\kde.py:447: RuntimeWarning: invalid value encountered in less\n",
      "  X = X[np.logical_and(X > clip[0], X < clip[1])] # won't work for two columns.\n"
     ]
    },
    {
     "data": {
      "text/plain": [
       "<matplotlib.axes._subplots.AxesSubplot at 0x1e9d21c8d08>"
      ]
     },
     "execution_count": 11,
     "metadata": {},
     "output_type": "execute_result"
    },
    {
     "data": {
      "image/png": "[encoded data removed]",
      "text/plain": [
       "<Figure size 1800x2520 with 10 Axes>"
      ]
     },
     "metadata": {
      "needs_background": "light"
     },
     "output_type": "display_data"
    }
   ],
   "source": [
    "f, axes = plt.subplots(5, 2, figsize=(25,35))\n",
    "sns.kdeplot(df[\"LOAN\"] , color=\"skyblue\", ax=axes[0, 0])\n",
    "sns.kdeplot(df[\"MORTDUE\"] , color=\"olive\", ax=axes[0, 1])\n",
    "sns.kdeplot(df[\"VALUE\"] , color=\"orange\", ax=axes[1, 0])\n",
    "sns.kdeplot(df[\"YOJ\"] , color=\"yellow\", ax=axes[1, 1])\n",
    "sns.kdeplot(df[\"DELINQ\"] , color=\"pink\", ax=axes[2, 0])\n",
    "sns.kdeplot(df[\"DEROG\"] , color=\"red\", ax=axes[2, 1])\n",
    "sns.kdeplot(df[\"CLAGE\"] , color=\"green\", ax=axes[3, 0])\n",
    "sns.kdeplot(df[\"NINQ\"] , color=\"gold\", ax=axes[3, 1])\n",
    "sns.kdeplot(df[\"CLNO\"] , color=\"teal\", ax=axes[4, 0])\n",
    "sns.kdeplot(df[\"DEBTINC\"] , color=\"teal\", ax=axes[4, 1])"
   ]
  },
  {
   "cell_type": "code",
   "execution_count": 12,
   "metadata": {},
   "outputs": [
    {
     "data": {
      "text/html": [
       "<div>\n",
       "<style scoped>\n",
       "    .dataframe tbody tr th:only-of-type {\n",
       "        vertical-align: middle;\n",
       "    }\n",
       "\n",
       "    .dataframe tbody tr th {\n",
       "        vertical-align: top;\n",
       "    }\n",
       "\n",
       "    .dataframe thead th {\n",
       "        text-align: right;\n",
       "    }\n",
       "</style>\n",
       "<table border=\"1\" class=\"dataframe\">\n",
       "  <thead>\n",
       "    <tr style=\"text-align: right;\">\n",
       "      <th></th>\n",
       "      <th>LOAN</th>\n",
       "      <th>MORTDUE</th>\n",
       "      <th>VALUE</th>\n",
       "      <th>YOJ</th>\n",
       "      <th>DEROG</th>\n",
       "      <th>DELINQ</th>\n",
       "      <th>CLAGE</th>\n",
       "      <th>NINQ</th>\n",
       "      <th>CLNO</th>\n",
       "      <th>DEBTINC</th>\n",
       "    </tr>\n",
       "  </thead>\n",
       "  <tbody>\n",
       "    <tr>\n",
       "      <td>count</td>\n",
       "      <td>5960.000000</td>\n",
       "      <td>5442.000000</td>\n",
       "      <td>5848.000000</td>\n",
       "      <td>5445.000000</td>\n",
       "      <td>5252.000000</td>\n",
       "      <td>5380.000000</td>\n",
       "      <td>5652.000000</td>\n",
       "      <td>5450.000000</td>\n",
       "      <td>5738.000000</td>\n",
       "      <td>4693.000000</td>\n",
       "    </tr>\n",
       "    <tr>\n",
       "      <td>mean</td>\n",
       "      <td>18607.969799</td>\n",
       "      <td>73760.817200</td>\n",
       "      <td>101776.048741</td>\n",
       "      <td>8.922268</td>\n",
       "      <td>0.254570</td>\n",
       "      <td>0.449442</td>\n",
       "      <td>179.766275</td>\n",
       "      <td>1.186055</td>\n",
       "      <td>21.296096</td>\n",
       "      <td>33.779915</td>\n",
       "    </tr>\n",
       "    <tr>\n",
       "      <td>std</td>\n",
       "      <td>11207.480417</td>\n",
       "      <td>44457.609458</td>\n",
       "      <td>57385.775334</td>\n",
       "      <td>7.573982</td>\n",
       "      <td>0.846047</td>\n",
       "      <td>1.127266</td>\n",
       "      <td>85.810092</td>\n",
       "      <td>1.728675</td>\n",
       "      <td>10.138933</td>\n",
       "      <td>8.601746</td>\n",
       "    </tr>\n",
       "    <tr>\n",
       "      <td>min</td>\n",
       "      <td>1100.000000</td>\n",
       "      <td>2063.000000</td>\n",
       "      <td>8000.000000</td>\n",
       "      <td>0.000000</td>\n",
       "      <td>0.000000</td>\n",
       "      <td>0.000000</td>\n",
       "      <td>0.000000</td>\n",
       "      <td>0.000000</td>\n",
       "      <td>0.000000</td>\n",
       "      <td>0.524499</td>\n",
       "    </tr>\n",
       "    <tr>\n",
       "      <td>25%</td>\n",
       "      <td>11100.000000</td>\n",
       "      <td>46276.000000</td>\n",
       "      <td>66075.500000</td>\n",
       "      <td>3.000000</td>\n",
       "      <td>0.000000</td>\n",
       "      <td>0.000000</td>\n",
       "      <td>115.116702</td>\n",
       "      <td>0.000000</td>\n",
       "      <td>15.000000</td>\n",
       "      <td>29.140031</td>\n",
       "    </tr>\n",
       "    <tr>\n",
       "      <td>50%</td>\n",
       "      <td>16300.000000</td>\n",
       "      <td>65019.000000</td>\n",
       "      <td>89235.500000</td>\n",
       "      <td>7.000000</td>\n",
       "      <td>0.000000</td>\n",
       "      <td>0.000000</td>\n",
       "      <td>173.466667</td>\n",
       "      <td>1.000000</td>\n",
       "      <td>20.000000</td>\n",
       "      <td>34.818262</td>\n",
       "    </tr>\n",
       "    <tr>\n",
       "      <td>75%</td>\n",
       "      <td>23300.000000</td>\n",
       "      <td>91488.000000</td>\n",
       "      <td>119824.250000</td>\n",
       "      <td>13.000000</td>\n",
       "      <td>0.000000</td>\n",
       "      <td>0.000000</td>\n",
       "      <td>231.562278</td>\n",
       "      <td>2.000000</td>\n",
       "      <td>26.000000</td>\n",
       "      <td>39.003141</td>\n",
       "    </tr>\n",
       "    <tr>\n",
       "      <td>max</td>\n",
       "      <td>89900.000000</td>\n",
       "      <td>399550.000000</td>\n",
       "      <td>855909.000000</td>\n",
       "      <td>41.000000</td>\n",
       "      <td>10.000000</td>\n",
       "      <td>15.000000</td>\n",
       "      <td>1168.233561</td>\n",
       "      <td>17.000000</td>\n",
       "      <td>71.000000</td>\n",
       "      <td>203.312149</td>\n",
       "    </tr>\n",
       "  </tbody>\n",
       "</table>\n",
       "</div>"
      ],
      "text/plain": [
       "               LOAN        MORTDUE          VALUE          YOJ        DEROG  \\\n",
       "count   5960.000000    5442.000000    5848.000000  5445.000000  5252.000000   \n",
       "mean   18607.969799   73760.817200  101776.048741     8.922268     0.254570   \n",
       "std    11207.480417   44457.609458   57385.775334     7.573982     0.846047   \n",
       "min     1100.000000    2063.000000    8000.000000     0.000000     0.000000   \n",
       "25%    11100.000000   46276.000000   66075.500000     3.000000     0.000000   \n",
       "50%    16300.000000   65019.000000   89235.500000     7.000000     0.000000   \n",
       "75%    23300.000000   91488.000000  119824.250000    13.000000     0.000000   \n",
       "max    89900.000000  399550.000000  855909.000000    41.000000    10.000000   \n",
       "\n",
       "            DELINQ        CLAGE         NINQ         CLNO      DEBTINC  \n",
       "count  5380.000000  5652.000000  5450.000000  5738.000000  4693.000000  \n",
       "mean      0.449442   179.766275     1.186055    21.296096    33.779915  \n",
       "std       1.127266    85.810092     1.728675    10.138933     8.601746  \n",
       "min       0.000000     0.000000     0.000000     0.000000     0.524499  \n",
       "25%       0.000000   115.116702     0.000000    15.000000    29.140031  \n",
       "50%       0.000000   173.466667     1.000000    20.000000    34.818262  \n",
       "75%       0.000000   231.562278     2.000000    26.000000    39.003141  \n",
       "max      15.000000  1168.233561    17.000000    71.000000   203.312149  "
      ]
     },
     "execution_count": 12,
     "metadata": {},
     "output_type": "execute_result"
    }
   ],
   "source": [
    "df[numerical_columns].describe()"
   ]
  },
  {
   "cell_type": "markdown",
   "metadata": {},
   "source": [
    "### Bivariate Analysis "
   ]
  },
  {
   "cell_type": "markdown",
   "metadata": {},
   "source": [
    "In the bivariate analysis we highlight the correlation between some of the variables that can be considered the most relevant. The dependence between variables plays a major role for the predictive part of the analysis therefore it is a crucial step of the visualization process. "
   ]
  },
  {
   "cell_type": "code",
   "execution_count": 13,
   "metadata": {},
   "outputs": [],
   "source": [
    "from scipy import stats\n",
    "from scipy.stats import chi2_contingency"
   ]
  },
  {
   "cell_type": "code",
   "execution_count": 14,
   "metadata": {},
   "outputs": [],
   "source": [
    "def chi_squared_test(tab):\n",
    "    \n",
    "    chi2, p, dof, ex = chi2_contingency(tab)\n",
    "    print(\"chi2 = \", chi2)\n",
    "    print(\"p-val = \", p)\n",
    "    print(\"degree of freedom = \",dof)\n",
    "    print(\"Expected:\")\n",
    "    \n",
    "    return pd.DataFrame(ex) \n",
    "    "
   ]
  },
  {
   "cell_type": "code",
   "execution_count": 15,
   "metadata": {},
   "outputs": [],
   "source": [
    "def v_cramer(tab):\n",
    "\n",
    "    chi2 = chi2_contingency(tab)[0]\n",
    "    n = sum(tab.sum()) \n",
    "    phi2 = chi2/n\n",
    "    r,k = tab.shape\n",
    "    phi2corr = max(0, phi2 - ((k-1)*(r-1))/(n-1))    \n",
    "    rcorr = r - ((r-1)**2)/(n-1)\n",
    "    kcorr = k - ((k-1)**2)/(n-1)\n",
    "    \n",
    "    return np.sqrt(phi2corr / min( (kcorr-1), (rcorr-1)))"
   ]
  },
  {
   "cell_type": "code",
   "execution_count": 16,
   "metadata": {},
   "outputs": [
    {
     "data": {
      "text/html": [
       "<div>\n",
       "<style scoped>\n",
       "    .dataframe tbody tr th:only-of-type {\n",
       "        vertical-align: middle;\n",
       "    }\n",
       "\n",
       "    .dataframe tbody tr th {\n",
       "        vertical-align: top;\n",
       "    }\n",
       "\n",
       "    .dataframe thead th {\n",
       "        text-align: right;\n",
       "    }\n",
       "</style>\n",
       "<table border=\"1\" class=\"dataframe\">\n",
       "  <thead>\n",
       "    <tr style=\"text-align: right;\">\n",
       "      <th>BAD</th>\n",
       "      <th>0</th>\n",
       "      <th>1</th>\n",
       "    </tr>\n",
       "    <tr>\n",
       "      <th>REASON</th>\n",
       "      <th></th>\n",
       "      <th></th>\n",
       "    </tr>\n",
       "  </thead>\n",
       "  <tbody>\n",
       "    <tr>\n",
       "      <td>DebtCon</td>\n",
       "      <td>0.810336</td>\n",
       "      <td>0.189664</td>\n",
       "    </tr>\n",
       "    <tr>\n",
       "      <td>HomeImp</td>\n",
       "      <td>0.777528</td>\n",
       "      <td>0.222472</td>\n",
       "    </tr>\n",
       "  </tbody>\n",
       "</table>\n",
       "</div>"
      ],
      "text/plain": [
       "BAD             0         1\n",
       "REASON                     \n",
       "DebtCon  0.810336  0.189664\n",
       "HomeImp  0.777528  0.222472"
      ]
     },
     "execution_count": 16,
     "metadata": {},
     "output_type": "execute_result"
    },
    {
     "data": {
      "image/png": "[encoded data removed]",
      "text/plain": [
       "<Figure size 432x288 with 1 Axes>"
      ]
     },
     "metadata": {
      "needs_background": "light"
     },
     "output_type": "display_data"
    }
   ],
   "source": [
    "tab = pd.crosstab(df['REASON'],df['BAD'])\n",
    "tab1 = tab.div(tab.sum(1).astype(float), axis=0)\n",
    "tab1.plot(kind=\"bar\", stacked=True, title='REASON vs BAD')\n",
    "tab1"
   ]
  },
  {
   "cell_type": "code",
   "execution_count": 17,
   "metadata": {},
   "outputs": [
    {
     "name": "stdout",
     "output_type": "stream",
     "text": [
      "chi2 =  8.039751291499368\n",
      "p-val =  0.004576181950707231\n",
      "degree of freedom =  1\n",
      "Expected:\n"
     ]
    },
    {
     "data": {
      "text/html": [
       "<div>\n",
       "<style scoped>\n",
       "    .dataframe tbody tr th:only-of-type {\n",
       "        vertical-align: middle;\n",
       "    }\n",
       "\n",
       "    .dataframe tbody tr th {\n",
       "        vertical-align: top;\n",
       "    }\n",
       "\n",
       "    .dataframe thead th {\n",
       "        text-align: right;\n",
       "    }\n",
       "</style>\n",
       "<table border=\"1\" class=\"dataframe\">\n",
       "  <thead>\n",
       "    <tr style=\"text-align: right;\">\n",
       "      <th></th>\n",
       "      <th>0</th>\n",
       "      <th>1</th>\n",
       "    </tr>\n",
       "  </thead>\n",
       "  <tbody>\n",
       "    <tr>\n",
       "      <td>0</td>\n",
       "      <td>3142.812894</td>\n",
       "      <td>1424.187106</td>\n",
       "    </tr>\n",
       "    <tr>\n",
       "      <td>1</td>\n",
       "      <td>785.187106</td>\n",
       "      <td>355.812894</td>\n",
       "    </tr>\n",
       "  </tbody>\n",
       "</table>\n",
       "</div>"
      ],
      "text/plain": [
       "             0            1\n",
       "0  3142.812894  1424.187106\n",
       "1   785.187106   355.812894"
      ]
     },
     "execution_count": 17,
     "metadata": {},
     "output_type": "execute_result"
    }
   ],
   "source": [
    "tab =  pd.crosstab(df['BAD'],df['REASON'])\n",
    "chi_squared_test(tab)"
   ]
  },
  {
   "cell_type": "code",
   "execution_count": 18,
   "metadata": {},
   "outputs": [
    {
     "data": {
      "text/plain": [
       "0.03512119816299411"
      ]
     },
     "execution_count": 18,
     "metadata": {},
     "output_type": "execute_result"
    }
   ],
   "source": [
    "v_cramer(tab) "
   ]
  },
  {
   "cell_type": "code",
   "execution_count": 19,
   "metadata": {},
   "outputs": [
    {
     "data": {
      "text/html": [
       "<div>\n",
       "<style scoped>\n",
       "    .dataframe tbody tr th:only-of-type {\n",
       "        vertical-align: middle;\n",
       "    }\n",
       "\n",
       "    .dataframe tbody tr th {\n",
       "        vertical-align: top;\n",
       "    }\n",
       "\n",
       "    .dataframe thead th {\n",
       "        text-align: right;\n",
       "    }\n",
       "</style>\n",
       "<table border=\"1\" class=\"dataframe\">\n",
       "  <thead>\n",
       "    <tr style=\"text-align: right;\">\n",
       "      <th>BAD</th>\n",
       "      <th>0</th>\n",
       "      <th>1</th>\n",
       "    </tr>\n",
       "    <tr>\n",
       "      <th>JOB</th>\n",
       "      <th></th>\n",
       "      <th></th>\n",
       "    </tr>\n",
       "  </thead>\n",
       "  <tbody>\n",
       "    <tr>\n",
       "      <td>Mgr</td>\n",
       "      <td>0.766623</td>\n",
       "      <td>0.233377</td>\n",
       "    </tr>\n",
       "    <tr>\n",
       "      <td>Office</td>\n",
       "      <td>0.868143</td>\n",
       "      <td>0.131857</td>\n",
       "    </tr>\n",
       "    <tr>\n",
       "      <td>Other</td>\n",
       "      <td>0.768007</td>\n",
       "      <td>0.231993</td>\n",
       "    </tr>\n",
       "    <tr>\n",
       "      <td>ProfExe</td>\n",
       "      <td>0.833856</td>\n",
       "      <td>0.166144</td>\n",
       "    </tr>\n",
       "    <tr>\n",
       "      <td>Sales</td>\n",
       "      <td>0.651376</td>\n",
       "      <td>0.348624</td>\n",
       "    </tr>\n",
       "    <tr>\n",
       "      <td>Self</td>\n",
       "      <td>0.699482</td>\n",
       "      <td>0.300518</td>\n",
       "    </tr>\n",
       "  </tbody>\n",
       "</table>\n",
       "</div>"
      ],
      "text/plain": [
       "BAD             0         1\n",
       "JOB                        \n",
       "Mgr      0.766623  0.233377\n",
       "Office   0.868143  0.131857\n",
       "Other    0.768007  0.231993\n",
       "ProfExe  0.833856  0.166144\n",
       "Sales    0.651376  0.348624\n",
       "Self     0.699482  0.300518"
      ]
     },
     "execution_count": 19,
     "metadata": {},
     "output_type": "execute_result"
    },
    {
     "data": {
      "image/png": "[encoded data removed]",
      "text/plain": [
       "<Figure size 432x288 with 1 Axes>"
      ]
     },
     "metadata": {
      "needs_background": "light"
     },
     "output_type": "display_data"
    }
   ],
   "source": [
    "tab=pd.crosstab(df['JOB'],df['BAD'])\n",
    "tab1 = tab.div(tab.sum(1).astype(float), axis=0)\n",
    "tab1.plot(kind=\"bar\", stacked=True, title='JOB vs BAD')\n",
    "tab1"
   ]
  },
  {
   "cell_type": "code",
   "execution_count": 20,
   "metadata": {},
   "outputs": [
    {
     "name": "stdout",
     "output_type": "stream",
     "text": [
      "chi2 =  81.93248953692775\n",
      "p-val =  3.3066762328584986e-16\n",
      "degree of freedom =  5\n",
      "Expected:\n"
     ]
    },
    {
     "data": {
      "text/html": [
       "<div>\n",
       "<style scoped>\n",
       "    .dataframe tbody tr th:only-of-type {\n",
       "        vertical-align: middle;\n",
       "    }\n",
       "\n",
       "    .dataframe tbody tr th {\n",
       "        vertical-align: top;\n",
       "    }\n",
       "\n",
       "    .dataframe thead th {\n",
       "        text-align: right;\n",
       "    }\n",
       "</style>\n",
       "<table border=\"1\" class=\"dataframe\">\n",
       "  <thead>\n",
       "    <tr style=\"text-align: right;\">\n",
       "      <th></th>\n",
       "      <th>0</th>\n",
       "      <th>1</th>\n",
       "      <th>2</th>\n",
       "      <th>3</th>\n",
       "      <th>4</th>\n",
       "      <th>5</th>\n",
       "    </tr>\n",
       "  </thead>\n",
       "  <tbody>\n",
       "    <tr>\n",
       "      <td>0</td>\n",
       "      <td>609.576659</td>\n",
       "      <td>753.427214</td>\n",
       "      <td>1897.873614</td>\n",
       "      <td>1014.106671</td>\n",
       "      <td>86.628234</td>\n",
       "      <td>153.387608</td>\n",
       "    </tr>\n",
       "    <tr>\n",
       "      <td>1</td>\n",
       "      <td>157.423341</td>\n",
       "      <td>194.572786</td>\n",
       "      <td>490.126386</td>\n",
       "      <td>261.893329</td>\n",
       "      <td>22.371766</td>\n",
       "      <td>39.612392</td>\n",
       "    </tr>\n",
       "  </tbody>\n",
       "</table>\n",
       "</div>"
      ],
      "text/plain": [
       "            0           1            2            3          4           5\n",
       "0  609.576659  753.427214  1897.873614  1014.106671  86.628234  153.387608\n",
       "1  157.423341  194.572786   490.126386   261.893329  22.371766   39.612392"
      ]
     },
     "execution_count": 20,
     "metadata": {},
     "output_type": "execute_result"
    }
   ],
   "source": [
    "tab =  pd.crosstab(df['BAD'],df['JOB'])\n",
    "chi_squared_test(tab)"
   ]
  },
  {
   "cell_type": "code",
   "execution_count": 21,
   "metadata": {},
   "outputs": [
    {
     "data": {
      "text/plain": [
       "0.11637997174732402"
      ]
     },
     "execution_count": 21,
     "metadata": {},
     "output_type": "execute_result"
    }
   ],
   "source": [
    "v_cramer(tab)"
   ]
  },
  {
   "cell_type": "code",
   "execution_count": 22,
   "metadata": {},
   "outputs": [
    {
     "data": {
      "text/plain": [
       "<matplotlib.axes._subplots.AxesSubplot at 0x1e9d1fba148>"
      ]
     },
     "execution_count": 22,
     "metadata": {},
     "output_type": "execute_result"
    },
    {
     "data": {
      "image/png": "[encoded data removed]",
      "text/plain": [
       "<Figure size 432x288 with 1 Axes>"
      ]
     },
     "metadata": {
      "needs_background": "light"
     },
     "output_type": "display_data"
    }
   ],
   "source": [
    "sns.boxplot(x='BAD', y='LOAN', data = df)"
   ]
  },
  {
   "cell_type": "code",
   "execution_count": 23,
   "metadata": {},
   "outputs": [
    {
     "data": {
      "image/png": "[encoded data removed]",
      "text/plain": [
       "<Figure size 432x288 with 1 Axes>"
      ]
     },
     "metadata": {
      "needs_background": "light"
     },
     "output_type": "display_data"
    }
   ],
   "source": [
    "dfWithBin = df.copy()\n",
    "bins=[0,9000,30000,90000] \n",
    "group=['Low','Medium','High'] \n",
    "dfWithBin['LOAN_bin']=pd.cut(df['LOAN'],bins,labels=group)\n",
    "LOAN_bin=pd.crosstab(dfWithBin['LOAN_bin'],dfWithBin['BAD'])\n",
    "LOAN_bin.div(LOAN_bin.sum(1).astype(float), axis=0).plot(kind=\"bar\", stacked=True)\n",
    "plt.xlabel('LOAN')\n",
    "P= plt.ylabel('Percentage')"
   ]
  },
  {
   "cell_type": "code",
   "execution_count": 26,
   "metadata": {},
   "outputs": [
    {
     "data": {
      "text/plain": [
       "Ttest_indResult(statistic=-128.17681544162232, pvalue=0.0)"
      ]
     },
     "execution_count": 26,
     "metadata": {},
     "output_type": "execute_result"
    }
   ],
   "source": [
    "stats.ttest_ind(df['BAD'].values, df['LOAN'].values)"
   ]
  },
  {
   "cell_type": "code",
   "execution_count": 27,
   "metadata": {},
   "outputs": [
    {
     "data": {
      "text/plain": [
       "<matplotlib.axes._subplots.AxesSubplot at 0x1e9d25098c8>"
      ]
     },
     "execution_count": 27,
     "metadata": {},
     "output_type": "execute_result"
    },
    {
     "data": {
      "image/png": "[encoded data removed]",
      "text/plain": [
       "<Figure size 432x288 with 1 Axes>"
      ]
     },
     "metadata": {
      "needs_background": "light"
     },
     "output_type": "display_data"
    }
   ],
   "source": [
    "sns.boxplot(x = 'BAD', y='MORTDUE', data = df)"
   ]
  },
  {
   "cell_type": "code",
   "execution_count": 28,
   "metadata": {},
   "outputs": [
    {
     "data": {
      "image/png": "[encoded data removed]",
      "text/plain": [
       "<Figure size 432x288 with 1 Axes>"
      ]
     },
     "metadata": {
      "needs_background": "light"
     },
     "output_type": "display_data"
    }
   ],
   "source": [
    "bins=[0,30000,110000,400000] \n",
    "group=['Low','Medium','High'] \n",
    "dfWithBin['MORTDUE_bin']=pd.cut(dfWithBin['MORTDUE'],bins,labels=group)\n",
    "LOAN_bin=pd.crosstab(dfWithBin['MORTDUE_bin'],dfWithBin['BAD'])\n",
    "LOAN_bin.div(LOAN_bin.sum(1).astype(float), axis=0).plot(kind=\"bar\", stacked=True)\n",
    "plt.xlabel('MORTDUE')\n",
    "P= plt.ylabel('Percentage')"
   ]
  },
  {
   "cell_type": "code",
   "execution_count": 29,
   "metadata": {},
   "outputs": [
    {
     "data": {
      "text/plain": [
       "<matplotlib.axes._subplots.AxesSubplot at 0x1e9d1cbff48>"
      ]
     },
     "execution_count": 29,
     "metadata": {},
     "output_type": "execute_result"
    },
    {
     "data": {
      "image/png": "[encoded data removed]",
      "text/plain": [
       "<Figure size 432x288 with 1 Axes>"
      ]
     },
     "metadata": {
      "needs_background": "light"
     },
     "output_type": "display_data"
    }
   ],
   "source": [
    "sns.boxplot(x = 'BAD', y='VALUE', data = df)"
   ]
  },
  {
   "cell_type": "code",
   "execution_count": 30,
   "metadata": {},
   "outputs": [
    {
     "data": {
      "image/png": "[encoded data removed]",
      "text/plain": [
       "<Figure size 432x288 with 1 Axes>"
      ]
     },
     "metadata": {
      "needs_background": "light"
     },
     "output_type": "display_data"
    }
   ],
   "source": [
    "bins=[0,44000,160000,860000] \n",
    "group=['Low','Mverage','High'] \n",
    "dfWithBin['VALUE_bin']=pd.cut(dfWithBin['VALUE'],bins,labels=group)\n",
    "LOAN_bin=pd.crosstab(dfWithBin['VALUE_bin'],dfWithBin['BAD'])\n",
    "LOAN_bin.div(LOAN_bin.sum(1).astype(float), axis=0).plot(kind=\"bar\", stacked=True)\n",
    "plt.xlabel('VALUE')\n",
    "P= plt.ylabel('Percentage')"
   ]
  },
  {
   "cell_type": "code",
   "execution_count": 31,
   "metadata": {},
   "outputs": [
    {
     "data": {
      "text/html": [
       "<div>\n",
       "<style scoped>\n",
       "    .dataframe tbody tr th:only-of-type {\n",
       "        vertical-align: middle;\n",
       "    }\n",
       "\n",
       "    .dataframe tbody tr th {\n",
       "        vertical-align: top;\n",
       "    }\n",
       "\n",
       "    .dataframe thead th {\n",
       "        text-align: right;\n",
       "    }\n",
       "</style>\n",
       "<table border=\"1\" class=\"dataframe\">\n",
       "  <thead>\n",
       "    <tr style=\"text-align: right;\">\n",
       "      <th>DELINQ</th>\n",
       "      <th>0.0</th>\n",
       "      <th>1.0</th>\n",
       "      <th>2.0</th>\n",
       "      <th>3.0</th>\n",
       "      <th>4.0</th>\n",
       "      <th>5.0</th>\n",
       "      <th>6.0</th>\n",
       "      <th>7.0</th>\n",
       "      <th>8.0</th>\n",
       "      <th>10.0</th>\n",
       "      <th>11.0</th>\n",
       "      <th>12.0</th>\n",
       "      <th>13.0</th>\n",
       "      <th>15.0</th>\n",
       "    </tr>\n",
       "    <tr>\n",
       "      <th>BAD</th>\n",
       "      <th></th>\n",
       "      <th></th>\n",
       "      <th></th>\n",
       "      <th></th>\n",
       "      <th></th>\n",
       "      <th></th>\n",
       "      <th></th>\n",
       "      <th></th>\n",
       "      <th></th>\n",
       "      <th></th>\n",
       "      <th></th>\n",
       "      <th></th>\n",
       "      <th></th>\n",
       "      <th></th>\n",
       "    </tr>\n",
       "  </thead>\n",
       "  <tbody>\n",
       "    <tr>\n",
       "      <td>0</td>\n",
       "      <td>3596</td>\n",
       "      <td>432</td>\n",
       "      <td>138</td>\n",
       "      <td>58</td>\n",
       "      <td>32</td>\n",
       "      <td>7</td>\n",
       "      <td>0</td>\n",
       "      <td>0</td>\n",
       "      <td>0</td>\n",
       "      <td>0</td>\n",
       "      <td>0</td>\n",
       "      <td>0</td>\n",
       "      <td>0</td>\n",
       "      <td>0</td>\n",
       "    </tr>\n",
       "    <tr>\n",
       "      <td>1</td>\n",
       "      <td>583</td>\n",
       "      <td>222</td>\n",
       "      <td>112</td>\n",
       "      <td>71</td>\n",
       "      <td>46</td>\n",
       "      <td>31</td>\n",
       "      <td>27</td>\n",
       "      <td>13</td>\n",
       "      <td>5</td>\n",
       "      <td>2</td>\n",
       "      <td>2</td>\n",
       "      <td>1</td>\n",
       "      <td>1</td>\n",
       "      <td>1</td>\n",
       "    </tr>\n",
       "  </tbody>\n",
       "</table>\n",
       "</div>"
      ],
      "text/plain": [
       "DELINQ  0.0   1.0   2.0   3.0   4.0   5.0   6.0   7.0   8.0   10.0  11.0  \\\n",
       "BAD                                                                        \n",
       "0       3596   432   138    58    32     7     0     0     0     0     0   \n",
       "1        583   222   112    71    46    31    27    13     5     2     2   \n",
       "\n",
       "DELINQ  12.0  13.0  15.0  \n",
       "BAD                       \n",
       "0          0     0     0  \n",
       "1          1     1     1  "
      ]
     },
     "execution_count": 31,
     "metadata": {},
     "output_type": "execute_result"
    },
    {
     "data": {
      "image/png": "[encoded data removed]",
      "text/plain": [
       "<Figure size 432x288 with 1 Axes>"
      ]
     },
     "metadata": {
      "needs_background": "light"
     },
     "output_type": "display_data"
    }
   ],
   "source": [
    "sns.boxplot(x = 'BAD', y='DELINQ', data = df) \n",
    "tab = pd.crosstab(df['BAD'], df['DELINQ'])\n",
    "tab"
   ]
  },
  {
   "cell_type": "code",
   "execution_count": 32,
   "metadata": {},
   "outputs": [
    {
     "data": {
      "text/plain": [
       "<matplotlib.axes._subplots.AxesSubplot at 0x1e9d2779308>"
      ]
     },
     "execution_count": 32,
     "metadata": {},
     "output_type": "execute_result"
    },
    {
     "data": {
      "image/png": "[encoded data removed]",
      "text/plain": [
       "<Figure size 432x288 with 1 Axes>"
      ]
     },
     "metadata": {
      "needs_background": "light"
     },
     "output_type": "display_data"
    }
   ],
   "source": [
    "sns.boxplot(x = 'BAD', y='DEBTINC', data = df)"
   ]
  },
  {
   "cell_type": "code",
   "execution_count": 33,
   "metadata": {},
   "outputs": [
    {
     "data": {
      "text/plain": [
       "<matplotlib.axes._subplots.AxesSubplot at 0x1e9d2832708>"
      ]
     },
     "execution_count": 33,
     "metadata": {},
     "output_type": "execute_result"
    },
    {
     "data": {
      "image/png": "[encoded data removed]",
      "text/plain": [
       "<Figure size 792x288 with 2 Axes>"
      ]
     },
     "metadata": {
      "needs_background": "light"
     },
     "output_type": "display_data"
    }
   ],
   "source": [
    "f, axes = plt.subplots(1, 2, figsize=(11,4))\n",
    "df.plot.scatter(x='LOAN', y='DEBTINC', ax=axes[0])\n",
    "df.plot.scatter(x='VALUE', y='DEBTINC', ax=axes[1]) "
   ]
  },
  {
   "cell_type": "code",
   "execution_count": 34,
   "metadata": {},
   "outputs": [
    {
     "data": {
      "text/plain": [
       "<matplotlib.axes._subplots.AxesSubplot at 0x1e9d28ce8c8>"
      ]
     },
     "execution_count": 34,
     "metadata": {},
     "output_type": "execute_result"
    },
    {
     "data": {
      "image/png": "[encoded data removed]",
      "text/plain": [
       "<Figure size 432x288 with 1 Axes>"
      ]
     },
     "metadata": {
      "needs_background": "light"
     },
     "output_type": "display_data"
    }
   ],
   "source": [
    "df.plot.scatter(x='VALUE', y='LOAN')"
   ]
  },
  {
   "cell_type": "code",
   "execution_count": 35,
   "metadata": {},
   "outputs": [
    {
     "data": {
      "image/png": "[encoded data removed]",
      "text/plain": [
       "<Figure size 720x576 with 2 Axes>"
      ]
     },
     "metadata": {
      "needs_background": "light"
     },
     "output_type": "display_data"
    }
   ],
   "source": [
    "df3 = df.copy()\n",
    "df3 = df3.drop('BAD', axis=1)\n",
    "corr = df3.corr()\n",
    "fig, ax = plt.subplots(figsize=(10,8))\n",
    "colormap = sns.diverging_palette(220, 10, as_cmap=True)\n",
    "sns.heatmap(corr, cmap=colormap, annot=True, fmt=\".2f\")\n",
    "plt.xticks(range(len(corr.columns)), corr.columns);\n",
    "plt.yticks(range(len(corr.columns)), corr.columns)\n",
    "plt.show() "
   ]
  },
  {
   "cell_type": "markdown",
   "metadata": {},
   "source": [
    "Correlation can be useful for feature selection "
   ]
  },
  {
   "cell_type": "markdown",
   "metadata": {},
   "source": [
    "## Missing values "
   ]
  },
  {
   "cell_type": "markdown",
   "metadata": {},
   "source": [
    "Handling missing data is a crucial phase in the analysis. There are some methods to tackle the problem: listwise and pairwise deletion, substitution with meaningful values, predictive modeling. We start by taking an overview of the problem, looking at what you don't see can give you information about what you see, you can find out interesting patterns. Furthermore we can check the type of randomness of the missing values themselves.  "
   ]
  },
  {
   "cell_type": "code",
   "execution_count": 39,
   "metadata": {},
   "outputs": [],
   "source": [
    "import missingno as miss"
   ]
  },
  {
   "cell_type": "code",
   "execution_count": 40,
   "metadata": {},
   "outputs": [
    {
     "data": {
      "text/plain": [
       "<matplotlib.axes._subplots.AxesSubplot at 0x1e9d577e288>"
      ]
     },
     "execution_count": 40,
     "metadata": {},
     "output_type": "execute_result"
    },
    {
     "data": {
      "image/png": "[encoded data removed]",
      "text/plain": [
       "<Figure size 1728x720 with 3 Axes>"
      ]
     },
     "metadata": {
      "needs_background": "light"
     },
     "output_type": "display_data"
    }
   ],
   "source": [
    "miss.bar(df)"
   ]
  },
  {
   "cell_type": "markdown",
   "metadata": {},
   "source": [
    "DEBTINC is the feature with more missing values"
   ]
  },
  {
   "cell_type": "markdown",
   "metadata": {},
   "source": [
    "The graph below provides another point of view of the missing values.\n",
    "Nullity correlation ranges from -1 (if one variable appears and the other definitely does not) to 0 (variables appearing or not appearing have no effect on one another) to 1 (if one variable appears the other definitely also does).\n",
    "Variables that are always full or always empty have no meaningful correlation, and so are removed from the visualization.\n",
    "Entries marked < 1 or > -1 have a correlation that is close to be exactly positive or negative, but is still not quite perfect. If the nullity correlation is very close to zero (-0.05 < R < 0.05), no value will be displayed. Red cells mean negative correlation.\n",
    "From our heatmap it's clear that there's no high correlation between the majority of the features from this standpoint, the only significant relationships are between DELINQ and DEROG, NINQ and DELINQ, CLNO and CLAGE. They make sense because those features are all related to credit lines and so if the dataset lacks values in one of them it's probable that it will lack also in others realted to the same field. \n",
    "The heatmap works great for picking out data completeness relationships between variable pairs, for defining the kind of randomness between categories but its explanatory power is limited when it comes to larger relationships and it has no particular support for extremely large datasets."
   ]
  },
  {
   "cell_type": "code",
   "execution_count": 41,
   "metadata": {},
   "outputs": [
    {
     "data": {
      "text/plain": [
       "<matplotlib.axes._subplots.AxesSubplot at 0x1e9d6498448>"
      ]
     },
     "execution_count": 41,
     "metadata": {},
     "output_type": "execute_result"
    },
    {
     "data": {
      "image/png": "[encoded data removed]",
      "text/plain": [
       "<Figure size 1440x864 with 2 Axes>"
      ]
     },
     "metadata": {
      "needs_background": "light"
     },
     "output_type": "display_data"
    }
   ],
   "source": [
    "miss.heatmap(df)"
   ]
  },
  {
   "cell_type": "markdown",
   "metadata": {},
   "source": [
    "The dendrogram reveals correlations deeper than the pairwise ones of the heatmap. It uses a hierarchical clustering algorithm (from scipy.cluster.hierarchy) to bin variables against one another by their nullity correlation, measured in terms of binary distance. At each step of the tree the variables are split up based on which combination minimizes the distance of the remaining clusters. The more monotone the set of variables, the closer their total distance is to zero, and the closer their average distance (the y-axis) is to zero. Cluster leaves which linked together at a distance of zero fully predict one another's presence: one variable might always be empty when another is filled, or they might always both be filled or both empty, and so on. Cluster leaves which split close to zero, but not at it, predict one another very well, but still imperfectly. We notice the same correlations of the heatmap with others less strong that can be considered anyway."
   ]
  },
  {
   "cell_type": "code",
   "execution_count": 42,
   "metadata": {},
   "outputs": [
    {
     "data": {
      "text/plain": [
       "<matplotlib.axes._subplots.AxesSubplot at 0x1e9d60bd408>"
      ]
     },
     "execution_count": 42,
     "metadata": {},
     "output_type": "execute_result"
    },
    {
     "data": {
      "image/png": "[encoded data removed]",
      "text/plain": [
       "<Figure size 1800x720 with 1 Axes>"
      ]
     },
     "metadata": {
      "needs_background": "light"
     },
     "output_type": "display_data"
    }
   ],
   "source": [
    "miss.dendrogram(df)"
   ]
  },
  {
   "cell_type": "code",
   "execution_count": 43,
   "metadata": {},
   "outputs": [],
   "source": [
    "def miss_val_tab(df):\n",
    "    \n",
    "    numb = df.isnull().sum()\n",
    "    perc = 100 * df.isnull().sum() / len(df)\n",
    "    tab = pd.concat([numb, perc], axis=1)\n",
    "    fintab = tab.rename(columns = {0 : 'Missing Values', 1 : '% of Total Values'})\n",
    "    fintab = fintab[fintab.iloc[:,1] != 0].sort_values('% of Total Values', ascending=False).round(1)\n",
    "        \n",
    "    return fintab "
   ]
  },
  {
   "cell_type": "code",
   "execution_count": 44,
   "metadata": {},
   "outputs": [
    {
     "data": {
      "text/html": [
       "<div>\n",
       "<style scoped>\n",
       "    .dataframe tbody tr th:only-of-type {\n",
       "        vertical-align: middle;\n",
       "    }\n",
       "\n",
       "    .dataframe tbody tr th {\n",
       "        vertical-align: top;\n",
       "    }\n",
       "\n",
       "    .dataframe thead th {\n",
       "        text-align: right;\n",
       "    }\n",
       "</style>\n",
       "<table border=\"1\" class=\"dataframe\">\n",
       "  <thead>\n",
       "    <tr style=\"text-align: right;\">\n",
       "      <th></th>\n",
       "      <th>Missing Values</th>\n",
       "      <th>% of Total Values</th>\n",
       "    </tr>\n",
       "  </thead>\n",
       "  <tbody>\n",
       "    <tr>\n",
       "      <td>DEBTINC</td>\n",
       "      <td>1267</td>\n",
       "      <td>21.3</td>\n",
       "    </tr>\n",
       "    <tr>\n",
       "      <td>DEROG</td>\n",
       "      <td>708</td>\n",
       "      <td>11.9</td>\n",
       "    </tr>\n",
       "    <tr>\n",
       "      <td>DELINQ</td>\n",
       "      <td>580</td>\n",
       "      <td>9.7</td>\n",
       "    </tr>\n",
       "    <tr>\n",
       "      <td>MORTDUE</td>\n",
       "      <td>518</td>\n",
       "      <td>8.7</td>\n",
       "    </tr>\n",
       "    <tr>\n",
       "      <td>YOJ</td>\n",
       "      <td>515</td>\n",
       "      <td>8.6</td>\n",
       "    </tr>\n",
       "    <tr>\n",
       "      <td>NINQ</td>\n",
       "      <td>510</td>\n",
       "      <td>8.6</td>\n",
       "    </tr>\n",
       "    <tr>\n",
       "      <td>CLAGE</td>\n",
       "      <td>308</td>\n",
       "      <td>5.2</td>\n",
       "    </tr>\n",
       "    <tr>\n",
       "      <td>JOB</td>\n",
       "      <td>279</td>\n",
       "      <td>4.7</td>\n",
       "    </tr>\n",
       "    <tr>\n",
       "      <td>REASON</td>\n",
       "      <td>252</td>\n",
       "      <td>4.2</td>\n",
       "    </tr>\n",
       "    <tr>\n",
       "      <td>CLNO</td>\n",
       "      <td>222</td>\n",
       "      <td>3.7</td>\n",
       "    </tr>\n",
       "    <tr>\n",
       "      <td>VALUE</td>\n",
       "      <td>112</td>\n",
       "      <td>1.9</td>\n",
       "    </tr>\n",
       "  </tbody>\n",
       "</table>\n",
       "</div>"
      ],
      "text/plain": [
       "         Missing Values  % of Total Values\n",
       "DEBTINC            1267               21.3\n",
       "DEROG               708               11.9\n",
       "DELINQ              580                9.7\n",
       "MORTDUE             518                8.7\n",
       "YOJ                 515                8.6\n",
       "NINQ                510                8.6\n",
       "CLAGE               308                5.2\n",
       "JOB                 279                4.7\n",
       "REASON              252                4.2\n",
       "CLNO                222                3.7\n",
       "VALUE               112                1.9"
      ]
     },
     "execution_count": 44,
     "metadata": {},
     "output_type": "execute_result"
    }
   ],
   "source": [
    "miss_val_tab(df) "
   ]
  },
  {
   "cell_type": "code",
   "execution_count": 7,
   "metadata": {},
   "outputs": [
    {
     "name": "stdout",
     "output_type": "stream",
     "text": [
      "<class 'pandas.core.frame.DataFrame'>\n",
      "Int64Index: 3364 entries, 5 to 5959\n",
      "Data columns (total 13 columns):\n",
      "BAD        3364 non-null int64\n",
      "LOAN       3364 non-null int64\n",
      "MORTDUE    3364 non-null float64\n",
      "VALUE      3364 non-null float64\n",
      "REASON     3364 non-null object\n",
      "JOB        3364 non-null object\n",
      "YOJ        3364 non-null float64\n",
      "DEROG      3364 non-null float64\n",
      "DELINQ     3364 non-null float64\n",
      "CLAGE      3364 non-null float64\n",
      "NINQ       3364 non-null float64\n",
      "CLNO       3364 non-null float64\n",
      "DEBTINC    3364 non-null float64\n",
      "dtypes: float64(9), int64(2), object(2)\n",
      "memory usage: 367.9+ KB\n"
     ]
    }
   ],
   "source": [
    "dftest = df.dropna(axis=0, how='any', inplace=True)\n",
    "dftest.info() "
   ]
  },
  {
   "cell_type": "markdown",
   "metadata": {},
   "source": [
    "It seems we lost lot of observations, this is not good for the generalization of the model, we could consider to replace them by imputation or easier substitutions with meaningful values like mean, median and mode. Anyway we delete observations with DEBTINC as missing value given the high percentage involved.For DEBTINC we could think about a predictive model after transforming it in a categorical variable, but given the number of observations, not that big, probably it's not a good idea to build a predictive model for imputation. We first check the result with these methods. "
   ]
  },
  {
   "cell_type": "code",
   "execution_count": 84,
   "metadata": {},
   "outputs": [],
   "source": [
    "df1 = df.copy()\n",
    "df.dropna(subset=['DEBTINC'], how='any', inplace=True) "
   ]
  },
  {
   "cell_type": "code",
   "execution_count": 48,
   "metadata": {},
   "outputs": [
    {
     "data": {
      "text/html": [
       "<div>\n",
       "<style scoped>\n",
       "    .dataframe tbody tr th:only-of-type {\n",
       "        vertical-align: middle;\n",
       "    }\n",
       "\n",
       "    .dataframe tbody tr th {\n",
       "        vertical-align: top;\n",
       "    }\n",
       "\n",
       "    .dataframe thead th {\n",
       "        text-align: right;\n",
       "    }\n",
       "</style>\n",
       "<table border=\"1\" class=\"dataframe\">\n",
       "  <thead>\n",
       "    <tr style=\"text-align: right;\">\n",
       "      <th></th>\n",
       "      <th>Missing Values</th>\n",
       "      <th>% of Total Values</th>\n",
       "    </tr>\n",
       "  </thead>\n",
       "  <tbody>\n",
       "    <tr>\n",
       "      <td>DEROG</td>\n",
       "      <td>578</td>\n",
       "      <td>12.3</td>\n",
       "    </tr>\n",
       "    <tr>\n",
       "      <td>DELINQ</td>\n",
       "      <td>476</td>\n",
       "      <td>10.1</td>\n",
       "    </tr>\n",
       "    <tr>\n",
       "      <td>YOJ</td>\n",
       "      <td>429</td>\n",
       "      <td>9.1</td>\n",
       "    </tr>\n",
       "    <tr>\n",
       "      <td>NINQ</td>\n",
       "      <td>416</td>\n",
       "      <td>8.9</td>\n",
       "    </tr>\n",
       "    <tr>\n",
       "      <td>MORTDUE</td>\n",
       "      <td>402</td>\n",
       "      <td>8.6</td>\n",
       "    </tr>\n",
       "    <tr>\n",
       "      <td>JOB</td>\n",
       "      <td>234</td>\n",
       "      <td>5.0</td>\n",
       "    </tr>\n",
       "    <tr>\n",
       "      <td>CLAGE</td>\n",
       "      <td>227</td>\n",
       "      <td>4.8</td>\n",
       "    </tr>\n",
       "    <tr>\n",
       "      <td>REASON</td>\n",
       "      <td>196</td>\n",
       "      <td>4.2</td>\n",
       "    </tr>\n",
       "    <tr>\n",
       "      <td>CLNO</td>\n",
       "      <td>164</td>\n",
       "      <td>3.5</td>\n",
       "    </tr>\n",
       "    <tr>\n",
       "      <td>VALUE</td>\n",
       "      <td>31</td>\n",
       "      <td>0.7</td>\n",
       "    </tr>\n",
       "  </tbody>\n",
       "</table>\n",
       "</div>"
      ],
      "text/plain": [
       "         Missing Values  % of Total Values\n",
       "DEROG               578               12.3\n",
       "DELINQ              476               10.1\n",
       "YOJ                 429                9.1\n",
       "NINQ                416                8.9\n",
       "MORTDUE             402                8.6\n",
       "JOB                 234                5.0\n",
       "CLAGE               227                4.8\n",
       "REASON              196                4.2\n",
       "CLNO                164                3.5\n",
       "VALUE                31                0.7"
      ]
     },
     "execution_count": 48,
     "metadata": {},
     "output_type": "execute_result"
    }
   ],
   "source": [
    "miss_val_tab(df) "
   ]
  },
  {
   "cell_type": "code",
   "execution_count": 85,
   "metadata": {},
   "outputs": [],
   "source": [
    "# Categorical variables\n",
    "# Replacement using mode\n",
    "\n",
    "df[\"REASON\"].fillna(value = \"DebtCon\",inplace = True)\n",
    "df[\"JOB\"].fillna(value = \"Other\",inplace = True)\n",
    "df1[\"REASON\"].fillna(value = \"DebtCon\",inplace = True)\n",
    "df1[\"JOB\"].fillna(value = \"Other\",inplace = True)"
   ]
  },
  {
   "cell_type": "code",
   "execution_count": 86,
   "metadata": {},
   "outputs": [],
   "source": [
    "# Even though these are numerical features they have few different values and they are integers for sure. Therefore,\n",
    "# given that zero is dominant, we use it to replace NAN values\n",
    "df[\"DEROG\"].fillna(value=0,inplace=True)\n",
    "df[\"DELINQ\"].fillna(value=0,inplace=True)\n",
    "df['NINQ'].fillna(value=0, inplace=True)\n",
    "df1[\"DEROG\"].fillna(value=0,inplace=True)\n",
    "df1[\"DELINQ\"].fillna(value=0,inplace=True)\n",
    "df1['NINQ'].fillna(value=0, inplace=True)\n",
    "# For YOJ and CLNO, given that there's no really dominant value, we drop the observations \n",
    "df.dropna(subset=['YOJ'], how='any', inplace=True)\n",
    "df.dropna(subset=['CLNO'], how='any', inplace=True) \n",
    "df1.dropna(subset=['YOJ'], how='any', inplace=True)\n",
    "df1.dropna(subset=['CLNO'], how='any', inplace=True) "
   ]
  },
  {
   "cell_type": "code",
   "execution_count": 87,
   "metadata": {},
   "outputs": [
    {
     "name": "stdout",
     "output_type": "stream",
     "text": [
      "<class 'pandas.core.frame.DataFrame'>\n",
      "Int64Index: 4196 entries, 5 to 5959\n",
      "Data columns (total 13 columns):\n",
      "BAD        4196 non-null int64\n",
      "LOAN       4196 non-null int64\n",
      "MORTDUE    4196 non-null float64\n",
      "VALUE      4196 non-null float64\n",
      "REASON     4196 non-null object\n",
      "JOB        4196 non-null object\n",
      "YOJ        4196 non-null float64\n",
      "DEROG      4196 non-null float64\n",
      "DELINQ     4196 non-null float64\n",
      "CLAGE      4196 non-null float64\n",
      "NINQ       4196 non-null float64\n",
      "CLNO       4196 non-null float64\n",
      "DEBTINC    4196 non-null float64\n",
      "dtypes: float64(9), int64(2), object(2)\n",
      "memory usage: 458.9+ KB\n",
      "<class 'pandas.core.frame.DataFrame'>\n",
      "Int64Index: 5340 entries, 0 to 5959\n",
      "Data columns (total 13 columns):\n",
      "BAD        5340 non-null int64\n",
      "LOAN       5340 non-null int64\n",
      "MORTDUE    5340 non-null float64\n",
      "VALUE      5340 non-null float64\n",
      "REASON     5340 non-null object\n",
      "JOB        5340 non-null object\n",
      "YOJ        5340 non-null float64\n",
      "DEROG      5340 non-null float64\n",
      "DELINQ     5340 non-null float64\n",
      "CLAGE      5340 non-null float64\n",
      "NINQ       5340 non-null float64\n",
      "CLNO       5340 non-null float64\n",
      "DEBTINC    5340 non-null float64\n",
      "dtypes: float64(9), int64(2), object(2)\n",
      "memory usage: 584.1+ KB\n"
     ]
    }
   ],
   "source": [
    "# For the remaining numerical categories we use the median instead of the mean to better preserve the distribution \n",
    "df.fillna(value=df.median(),inplace=True)\n",
    "df1['DEBTINC'].fillna(value=df1['DEBTINC'].mean(), inplace=True)\n",
    "df1.fillna(value=df1.median(), inplace=True)\n",
    "df.info()\n",
    "df1.info()"
   ]
  },
  {
   "cell_type": "markdown",
   "metadata": {},
   "source": [
    "## Preprocessing "
   ]
  },
  {
   "cell_type": "markdown",
   "metadata": {},
   "source": [
    "Now we prepare data for the predictive phase. First we transfrom categorical variables using dummies. Then we could consider to transform other variables in order to reduce the outliers that can harm the prediction."
   ]
  },
  {
   "cell_type": "code",
   "execution_count": 88,
   "metadata": {},
   "outputs": [],
   "source": [
    "df = pd.get_dummies(df, columns=['REASON','JOB'])\n",
    "df1 = pd.get_dummies(df1, columns=['REASON','JOB'])"
   ]
  },
  {
   "cell_type": "code",
   "execution_count": 53,
   "metadata": {},
   "outputs": [
    {
     "data": {
      "text/plain": [
       "0.0     3501\n",
       "1.0      407\n",
       "2.0      154\n",
       "3.0       67\n",
       "4.0       38\n",
       "5.0       13\n",
       "7.0        7\n",
       "6.0        7\n",
       "10.0       1\n",
       "8.0        1\n",
       "Name: DELINQ, dtype: int64"
      ]
     },
     "execution_count": 53,
     "metadata": {},
     "output_type": "execute_result"
    }
   ],
   "source": [
    "df['DELINQ'].value_counts()"
   ]
  },
  {
   "cell_type": "code",
   "execution_count": 54,
   "metadata": {},
   "outputs": [
    {
     "data": {
      "text/plain": [
       "0.0     3820\n",
       "1.0      249\n",
       "2.0       84\n",
       "3.0       25\n",
       "4.0        8\n",
       "6.0        3\n",
       "7.0        2\n",
       "5.0        2\n",
       "9.0        1\n",
       "10.0       1\n",
       "8.0        1\n",
       "Name: DEROG, dtype: int64"
      ]
     },
     "execution_count": 54,
     "metadata": {},
     "output_type": "execute_result"
    }
   ],
   "source": [
    "df['DEROG'].value_counts()"
   ]
  },
  {
   "cell_type": "code",
   "execution_count": 55,
   "metadata": {},
   "outputs": [
    {
     "data": {
      "text/plain": [
       "0.0     2157\n",
       "1.0      988\n",
       "2.0      541\n",
       "3.0      272\n",
       "4.0       98\n",
       "5.0       42\n",
       "6.0       27\n",
       "10.0      23\n",
       "7.0       22\n",
       "8.0       12\n",
       "9.0        8\n",
       "11.0       5\n",
       "13.0       1\n",
       "Name: NINQ, dtype: int64"
      ]
     },
     "execution_count": 55,
     "metadata": {},
     "output_type": "execute_result"
    }
   ],
   "source": [
    "df['NINQ'].value_counts()"
   ]
  },
  {
   "cell_type": "code",
   "execution_count": 56,
   "metadata": {},
   "outputs": [
    {
     "data": {
      "text/plain": [
       "16.0    255\n",
       "19.0    205\n",
       "24.0    204\n",
       "23.0    199\n",
       "21.0    179\n",
       "15.0    169\n",
       "20.0    162\n",
       "25.0    162\n",
       "22.0    157\n",
       "18.0    157\n",
       "17.0    153\n",
       "26.0    152\n",
       "13.0    149\n",
       "14.0    140\n",
       "12.0    127\n",
       "11.0    114\n",
       "27.0    105\n",
       "10.0     94\n",
       "29.0     92\n",
       "30.0     91\n",
       "31.0     86\n",
       "32.0     86\n",
       "9.0      86\n",
       "28.0     71\n",
       "8.0      69\n",
       "34.0     67\n",
       "35.0     60\n",
       "36.0     55\n",
       "7.0      47\n",
       "33.0     45\n",
       "37.0     42\n",
       "6.0      38\n",
       "42.0     32\n",
       "5.0      31\n",
       "4.0      31\n",
       "38.0     28\n",
       "49.0     27\n",
       "0.0      26\n",
       "50.0     22\n",
       "3.0      22\n",
       "47.0     21\n",
       "41.0     20\n",
       "46.0     16\n",
       "43.0     15\n",
       "55.0     13\n",
       "51.0     12\n",
       "40.0     11\n",
       "39.0     11\n",
       "45.0      9\n",
       "48.0      6\n",
       "2.0       5\n",
       "56.0      4\n",
       "1.0       3\n",
       "64.0      3\n",
       "52.0      3\n",
       "44.0      3\n",
       "65.0      1\n",
       "63.0      1\n",
       "58.0      1\n",
       "71.0      1\n",
       "Name: CLNO, dtype: int64"
      ]
     },
     "execution_count": 56,
     "metadata": {},
     "output_type": "execute_result"
    }
   ],
   "source": [
    "df['CLNO'].value_counts()"
   ]
  },
  {
   "cell_type": "code",
   "execution_count": 57,
   "metadata": {},
   "outputs": [
    {
     "data": {
      "text/plain": [
       "0.0     364\n",
       "1.0     295\n",
       "2.0     277\n",
       "4.0     265\n",
       "5.0     261\n",
       "6.0     252\n",
       "3.0     239\n",
       "9.0     234\n",
       "10.0    212\n",
       "7.0     198\n",
       "8.0     196\n",
       "11.0    142\n",
       "13.0    133\n",
       "12.0    111\n",
       "14.0    108\n",
       "15.0    100\n",
       "16.0     95\n",
       "19.0     72\n",
       "17.0     67\n",
       "23.0     66\n",
       "20.0     63\n",
       "24.0     61\n",
       "18.0     59\n",
       "21.0     58\n",
       "22.0     53\n",
       "25.0     45\n",
       "26.0     37\n",
       "27.0     33\n",
       "28.0     29\n",
       "29.0     25\n",
       "30.0     24\n",
       "31.0     10\n",
       "35.0      5\n",
       "36.0      4\n",
       "34.0      1\n",
       "32.0      1\n",
       "41.0      1\n",
       "Name: YOJ, dtype: int64"
      ]
     },
     "execution_count": 57,
     "metadata": {},
     "output_type": "execute_result"
    }
   ],
   "source": [
    "df['YOJ'].value_counts()"
   ]
  },
  {
   "cell_type": "markdown",
   "metadata": {},
   "source": [
    "We look at the variables with smaller values and few different values. In general it seems that the higher is the value of the variable the smaller the number of observations with that value but there are exceptions. For example in CLNO we have values equal to 2 and 1 with few observations. Furthermore there are significant differences in distribution. Therefore we focus just on DELINQ, DEROG and NINQ where the values and the number of observations seem to strictly follow the above-mentioned \"rule\", and above all the distribution is much more skewed."
   ]
  },
  {
   "cell_type": "code",
   "execution_count": 89,
   "metadata": {},
   "outputs": [
    {
     "data": {
      "text/html": [
       "<div>\n",
       "<style scoped>\n",
       "    .dataframe tbody tr th:only-of-type {\n",
       "        vertical-align: middle;\n",
       "    }\n",
       "\n",
       "    .dataframe tbody tr th {\n",
       "        vertical-align: top;\n",
       "    }\n",
       "\n",
       "    .dataframe thead th {\n",
       "        text-align: right;\n",
       "    }\n",
       "</style>\n",
       "<table border=\"1\" class=\"dataframe\">\n",
       "  <thead>\n",
       "    <tr style=\"text-align: right;\">\n",
       "      <th></th>\n",
       "      <th>BAD</th>\n",
       "      <th>LOAN</th>\n",
       "      <th>MORTDUE</th>\n",
       "      <th>VALUE</th>\n",
       "      <th>YOJ</th>\n",
       "      <th>CLAGE</th>\n",
       "      <th>CLNO</th>\n",
       "      <th>DEBTINC</th>\n",
       "      <th>REASON_DebtCon</th>\n",
       "      <th>REASON_HomeImp</th>\n",
       "      <th>JOB_Mgr</th>\n",
       "      <th>JOB_Office</th>\n",
       "      <th>JOB_Other</th>\n",
       "      <th>JOB_ProfExe</th>\n",
       "      <th>JOB_Sales</th>\n",
       "      <th>JOB_Self</th>\n",
       "      <th>DUMM_DEROG</th>\n",
       "      <th>DUMM_DELINQ</th>\n",
       "      <th>DUMM_NINQ</th>\n",
       "    </tr>\n",
       "  </thead>\n",
       "  <tbody>\n",
       "    <tr>\n",
       "      <td>5</td>\n",
       "      <td>1</td>\n",
       "      <td>1700</td>\n",
       "      <td>30548.0</td>\n",
       "      <td>40320.0</td>\n",
       "      <td>9.0</td>\n",
       "      <td>101.466002</td>\n",
       "      <td>8.0</td>\n",
       "      <td>37.113614</td>\n",
       "      <td>0</td>\n",
       "      <td>1</td>\n",
       "      <td>0</td>\n",
       "      <td>0</td>\n",
       "      <td>1</td>\n",
       "      <td>0</td>\n",
       "      <td>0</td>\n",
       "      <td>0</td>\n",
       "      <td>0</td>\n",
       "      <td>0</td>\n",
       "      <td>1</td>\n",
       "    </tr>\n",
       "    <tr>\n",
       "      <td>7</td>\n",
       "      <td>1</td>\n",
       "      <td>1800</td>\n",
       "      <td>28502.0</td>\n",
       "      <td>43034.0</td>\n",
       "      <td>11.0</td>\n",
       "      <td>88.766030</td>\n",
       "      <td>8.0</td>\n",
       "      <td>36.884894</td>\n",
       "      <td>0</td>\n",
       "      <td>1</td>\n",
       "      <td>0</td>\n",
       "      <td>0</td>\n",
       "      <td>1</td>\n",
       "      <td>0</td>\n",
       "      <td>0</td>\n",
       "      <td>0</td>\n",
       "      <td>0</td>\n",
       "      <td>0</td>\n",
       "      <td>0</td>\n",
       "    </tr>\n",
       "    <tr>\n",
       "      <td>19</td>\n",
       "      <td>0</td>\n",
       "      <td>2300</td>\n",
       "      <td>102370.0</td>\n",
       "      <td>120953.0</td>\n",
       "      <td>2.0</td>\n",
       "      <td>90.992533</td>\n",
       "      <td>13.0</td>\n",
       "      <td>31.588503</td>\n",
       "      <td>0</td>\n",
       "      <td>1</td>\n",
       "      <td>0</td>\n",
       "      <td>1</td>\n",
       "      <td>0</td>\n",
       "      <td>0</td>\n",
       "      <td>0</td>\n",
       "      <td>0</td>\n",
       "      <td>0</td>\n",
       "      <td>0</td>\n",
       "      <td>0</td>\n",
       "    </tr>\n",
       "    <tr>\n",
       "      <td>25</td>\n",
       "      <td>1</td>\n",
       "      <td>2400</td>\n",
       "      <td>34863.0</td>\n",
       "      <td>47471.0</td>\n",
       "      <td>12.0</td>\n",
       "      <td>70.491080</td>\n",
       "      <td>21.0</td>\n",
       "      <td>38.263601</td>\n",
       "      <td>0</td>\n",
       "      <td>1</td>\n",
       "      <td>1</td>\n",
       "      <td>0</td>\n",
       "      <td>0</td>\n",
       "      <td>0</td>\n",
       "      <td>0</td>\n",
       "      <td>0</td>\n",
       "      <td>0</td>\n",
       "      <td>0</td>\n",
       "      <td>1</td>\n",
       "    </tr>\n",
       "    <tr>\n",
       "      <td>26</td>\n",
       "      <td>0</td>\n",
       "      <td>2400</td>\n",
       "      <td>98449.0</td>\n",
       "      <td>117195.0</td>\n",
       "      <td>4.0</td>\n",
       "      <td>93.811775</td>\n",
       "      <td>13.0</td>\n",
       "      <td>29.681827</td>\n",
       "      <td>0</td>\n",
       "      <td>1</td>\n",
       "      <td>0</td>\n",
       "      <td>1</td>\n",
       "      <td>0</td>\n",
       "      <td>0</td>\n",
       "      <td>0</td>\n",
       "      <td>0</td>\n",
       "      <td>0</td>\n",
       "      <td>0</td>\n",
       "      <td>0</td>\n",
       "    </tr>\n",
       "    <tr>\n",
       "      <td>...</td>\n",
       "      <td>...</td>\n",
       "      <td>...</td>\n",
       "      <td>...</td>\n",
       "      <td>...</td>\n",
       "      <td>...</td>\n",
       "      <td>...</td>\n",
       "      <td>...</td>\n",
       "      <td>...</td>\n",
       "      <td>...</td>\n",
       "      <td>...</td>\n",
       "      <td>...</td>\n",
       "      <td>...</td>\n",
       "      <td>...</td>\n",
       "      <td>...</td>\n",
       "      <td>...</td>\n",
       "      <td>...</td>\n",
       "      <td>...</td>\n",
       "      <td>...</td>\n",
       "      <td>...</td>\n",
       "    </tr>\n",
       "    <tr>\n",
       "      <td>5955</td>\n",
       "      <td>0</td>\n",
       "      <td>88900</td>\n",
       "      <td>57264.0</td>\n",
       "      <td>90185.0</td>\n",
       "      <td>16.0</td>\n",
       "      <td>221.808717</td>\n",
       "      <td>16.0</td>\n",
       "      <td>36.112347</td>\n",
       "      <td>1</td>\n",
       "      <td>0</td>\n",
       "      <td>0</td>\n",
       "      <td>0</td>\n",
       "      <td>1</td>\n",
       "      <td>0</td>\n",
       "      <td>0</td>\n",
       "      <td>0</td>\n",
       "      <td>0</td>\n",
       "      <td>0</td>\n",
       "      <td>0</td>\n",
       "    </tr>\n",
       "    <tr>\n",
       "      <td>5956</td>\n",
       "      <td>0</td>\n",
       "      <td>89000</td>\n",
       "      <td>54576.0</td>\n",
       "      <td>92937.0</td>\n",
       "      <td>16.0</td>\n",
       "      <td>208.692070</td>\n",
       "      <td>15.0</td>\n",
       "      <td>35.859971</td>\n",
       "      <td>1</td>\n",
       "      <td>0</td>\n",
       "      <td>0</td>\n",
       "      <td>0</td>\n",
       "      <td>1</td>\n",
       "      <td>0</td>\n",
       "      <td>0</td>\n",
       "      <td>0</td>\n",
       "      <td>0</td>\n",
       "      <td>0</td>\n",
       "      <td>0</td>\n",
       "    </tr>\n",
       "    <tr>\n",
       "      <td>5957</td>\n",
       "      <td>0</td>\n",
       "      <td>89200</td>\n",
       "      <td>54045.0</td>\n",
       "      <td>92924.0</td>\n",
       "      <td>15.0</td>\n",
       "      <td>212.279697</td>\n",
       "      <td>15.0</td>\n",
       "      <td>35.556590</td>\n",
       "      <td>1</td>\n",
       "      <td>0</td>\n",
       "      <td>0</td>\n",
       "      <td>0</td>\n",
       "      <td>1</td>\n",
       "      <td>0</td>\n",
       "      <td>0</td>\n",
       "      <td>0</td>\n",
       "      <td>0</td>\n",
       "      <td>0</td>\n",
       "      <td>0</td>\n",
       "    </tr>\n",
       "    <tr>\n",
       "      <td>5958</td>\n",
       "      <td>0</td>\n",
       "      <td>89800</td>\n",
       "      <td>50370.0</td>\n",
       "      <td>91861.0</td>\n",
       "      <td>14.0</td>\n",
       "      <td>213.892709</td>\n",
       "      <td>16.0</td>\n",
       "      <td>34.340882</td>\n",
       "      <td>1</td>\n",
       "      <td>0</td>\n",
       "      <td>0</td>\n",
       "      <td>0</td>\n",
       "      <td>1</td>\n",
       "      <td>0</td>\n",
       "      <td>0</td>\n",
       "      <td>0</td>\n",
       "      <td>0</td>\n",
       "      <td>0</td>\n",
       "      <td>0</td>\n",
       "    </tr>\n",
       "    <tr>\n",
       "      <td>5959</td>\n",
       "      <td>0</td>\n",
       "      <td>89900</td>\n",
       "      <td>48811.0</td>\n",
       "      <td>88934.0</td>\n",
       "      <td>15.0</td>\n",
       "      <td>219.601002</td>\n",
       "      <td>16.0</td>\n",
       "      <td>34.571519</td>\n",
       "      <td>1</td>\n",
       "      <td>0</td>\n",
       "      <td>0</td>\n",
       "      <td>0</td>\n",
       "      <td>1</td>\n",
       "      <td>0</td>\n",
       "      <td>0</td>\n",
       "      <td>0</td>\n",
       "      <td>0</td>\n",
       "      <td>0</td>\n",
       "      <td>0</td>\n",
       "    </tr>\n",
       "  </tbody>\n",
       "</table>\n",
       "<p>4196 rows × 19 columns</p>\n",
       "</div>"
      ],
      "text/plain": [
       "      BAD   LOAN   MORTDUE     VALUE   YOJ       CLAGE  CLNO    DEBTINC  \\\n",
       "5       1   1700   30548.0   40320.0   9.0  101.466002   8.0  37.113614   \n",
       "7       1   1800   28502.0   43034.0  11.0   88.766030   8.0  36.884894   \n",
       "19      0   2300  102370.0  120953.0   2.0   90.992533  13.0  31.588503   \n",
       "25      1   2400   34863.0   47471.0  12.0   70.491080  21.0  38.263601   \n",
       "26      0   2400   98449.0  117195.0   4.0   93.811775  13.0  29.681827   \n",
       "...   ...    ...       ...       ...   ...         ...   ...        ...   \n",
       "5955    0  88900   57264.0   90185.0  16.0  221.808717  16.0  36.112347   \n",
       "5956    0  89000   54576.0   92937.0  16.0  208.692070  15.0  35.859971   \n",
       "5957    0  89200   54045.0   92924.0  15.0  212.279697  15.0  35.556590   \n",
       "5958    0  89800   50370.0   91861.0  14.0  213.892709  16.0  34.340882   \n",
       "5959    0  89900   48811.0   88934.0  15.0  219.601002  16.0  34.571519   \n",
       "\n",
       "      REASON_DebtCon  REASON_HomeImp  JOB_Mgr  JOB_Office  JOB_Other  \\\n",
       "5                  0               1        0           0          1   \n",
       "7                  0               1        0           0          1   \n",
       "19                 0               1        0           1          0   \n",
       "25                 0               1        1           0          0   \n",
       "26                 0               1        0           1          0   \n",
       "...              ...             ...      ...         ...        ...   \n",
       "5955               1               0        0           0          1   \n",
       "5956               1               0        0           0          1   \n",
       "5957               1               0        0           0          1   \n",
       "5958               1               0        0           0          1   \n",
       "5959               1               0        0           0          1   \n",
       "\n",
       "      JOB_ProfExe  JOB_Sales  JOB_Self  DUMM_DEROG  DUMM_DELINQ  DUMM_NINQ  \n",
       "5               0          0         0           0            0          1  \n",
       "7               0          0         0           0            0          0  \n",
       "19              0          0         0           0            0          0  \n",
       "25              0          0         0           0            0          1  \n",
       "26              0          0         0           0            0          0  \n",
       "...           ...        ...       ...         ...          ...        ...  \n",
       "5955            0          0         0           0            0          0  \n",
       "5956            0          0         0           0            0          0  \n",
       "5957            0          0         0           0            0          0  \n",
       "5958            0          0         0           0            0          0  \n",
       "5959            0          0         0           0            0          0  \n",
       "\n",
       "[4196 rows x 19 columns]"
      ]
     },
     "execution_count": 89,
     "metadata": {},
     "output_type": "execute_result"
    }
   ],
   "source": [
    "df['DUMM_DEROG'] = (df['DEROG']>=1)*1\n",
    "df['DUMM_DELINQ'] = (df['DELINQ']>=1)*1\n",
    "df['DUMM_NINQ'] = (df['NINQ']>=1)*1\n",
    "df = df.drop(['DEROG','NINQ','DELINQ'], axis=1)\n",
    "df1['DUMM_DEROG'] = (df1['DEROG']>=1)*1\n",
    "df1['DUMM_DELINQ'] = (df1['DELINQ']>=1)*1\n",
    "df1['DUMM_NINQ'] = (df1['NINQ']>=1)*1\n",
    "df1 = df1.drop(['DEROG','NINQ','DELINQ'], axis=1)\n",
    "df"
   ]
  },
  {
   "cell_type": "markdown",
   "metadata": {},
   "source": [
    "We create dummies for those three features dividing into values smaller than 0 and bigger than or equal to 1"
   ]
  },
  {
   "cell_type": "code",
   "execution_count": 59,
   "metadata": {},
   "outputs": [
    {
     "name": "stdout",
     "output_type": "stream",
     "text": [
      "<class 'pandas.core.frame.DataFrame'>\n",
      "Int64Index: 4196 entries, 5 to 5959\n",
      "Data columns (total 19 columns):\n",
      "BAD               4196 non-null int64\n",
      "LOAN              4196 non-null int64\n",
      "MORTDUE           4196 non-null float64\n",
      "VALUE             4196 non-null float64\n",
      "YOJ               4196 non-null float64\n",
      "CLAGE             4196 non-null float64\n",
      "CLNO              4196 non-null float64\n",
      "DEBTINC           4196 non-null float64\n",
      "REASON_DebtCon    4196 non-null uint8\n",
      "REASON_HomeImp    4196 non-null uint8\n",
      "JOB_Mgr           4196 non-null uint8\n",
      "JOB_Office        4196 non-null uint8\n",
      "JOB_Other         4196 non-null uint8\n",
      "JOB_ProfExe       4196 non-null uint8\n",
      "JOB_Sales         4196 non-null uint8\n",
      "JOB_Self          4196 non-null uint8\n",
      "DUMM_DEROG        4196 non-null int32\n",
      "DUMM_DELINQ       4196 non-null int32\n",
      "DUMM_NINQ         4196 non-null int32\n",
      "dtypes: float64(6), int32(3), int64(2), uint8(8)\n",
      "memory usage: 377.0 KB\n"
     ]
    }
   ],
   "source": [
    "df.info()"
   ]
  },
  {
   "cell_type": "code",
   "execution_count": 60,
   "metadata": {},
   "outputs": [
    {
     "data": {
      "text/plain": [
       "0    3825\n",
       "1     371\n",
       "Name: BAD, dtype: int64"
      ]
     },
     "execution_count": 60,
     "metadata": {},
     "output_type": "execute_result"
    }
   ],
   "source": [
    "df['BAD'].value_counts()"
   ]
  },
  {
   "cell_type": "markdown",
   "metadata": {},
   "source": [
    "The target variable is very unbalanced, we should fix it before starting the predictive phase."
   ]
  },
  {
   "cell_type": "code",
   "execution_count": 62,
   "metadata": {},
   "outputs": [
    {
     "name": "stdout",
     "output_type": "stream",
     "text": [
      "<class 'pandas.core.frame.DataFrame'>\n",
      "Int64Index: 3356 entries, 2772 to 1437\n",
      "Data columns (total 19 columns):\n",
      "BAD               3356 non-null int64\n",
      "LOAN              3356 non-null int64\n",
      "MORTDUE           3356 non-null float64\n",
      "VALUE             3356 non-null float64\n",
      "YOJ               3356 non-null float64\n",
      "CLAGE             3356 non-null float64\n",
      "CLNO              3356 non-null float64\n",
      "DEBTINC           3356 non-null float64\n",
      "REASON_DebtCon    3356 non-null uint8\n",
      "REASON_HomeImp    3356 non-null uint8\n",
      "JOB_Mgr           3356 non-null uint8\n",
      "JOB_Office        3356 non-null uint8\n",
      "JOB_Other         3356 non-null uint8\n",
      "JOB_ProfExe       3356 non-null uint8\n",
      "JOB_Sales         3356 non-null uint8\n",
      "JOB_Self          3356 non-null uint8\n",
      "DUMM_DEROG        3356 non-null int32\n",
      "DUMM_DELINQ       3356 non-null int32\n",
      "DUMM_NINQ         3356 non-null int32\n",
      "dtypes: float64(6), int32(3), int64(2), uint8(8)\n",
      "memory usage: 301.5 KB\n",
      "<class 'pandas.core.frame.DataFrame'>\n",
      "Int64Index: 840 entries, 253 to 269\n",
      "Data columns (total 19 columns):\n",
      "BAD               840 non-null int64\n",
      "LOAN              840 non-null int64\n",
      "MORTDUE           840 non-null float64\n",
      "VALUE             840 non-null float64\n",
      "YOJ               840 non-null float64\n",
      "CLAGE             840 non-null float64\n",
      "CLNO              840 non-null float64\n",
      "DEBTINC           840 non-null float64\n",
      "REASON_DebtCon    840 non-null uint8\n",
      "REASON_HomeImp    840 non-null uint8\n",
      "JOB_Mgr           840 non-null uint8\n",
      "JOB_Office        840 non-null uint8\n",
      "JOB_Other         840 non-null uint8\n",
      "JOB_ProfExe       840 non-null uint8\n",
      "JOB_Sales         840 non-null uint8\n",
      "JOB_Self          840 non-null uint8\n",
      "DUMM_DEROG        840 non-null int32\n",
      "DUMM_DELINQ       840 non-null int32\n",
      "DUMM_NINQ         840 non-null int32\n",
      "dtypes: float64(6), int32(3), int64(2), uint8(8)\n",
      "memory usage: 75.5 KB\n"
     ]
    }
   ],
   "source": [
    "from sklearn.model_selection import train_test_split\n",
    "train, test = train_test_split(df, test_size=0.2, random_state=42)\n",
    "train.info()\n",
    "test.info()"
   ]
  },
  {
   "cell_type": "code",
   "execution_count": 20,
   "metadata": {},
   "outputs": [],
   "source": [
    "train_df = train.to_csv(r'C:\\Users\\giamm\\Desktop\\train_df.csv', index = None, header=True)"
   ]
  },
  {
   "cell_type": "code",
   "execution_count": 21,
   "metadata": {},
   "outputs": [],
   "source": [
    "test_df = test.to_csv(r'C:\\Users\\giamm\\Desktop\\test_df.csv', index = None, header=True)"
   ]
  },
  {
   "cell_type": "code",
   "execution_count": 22,
   "metadata": {},
   "outputs": [
    {
     "name": "stdout",
     "output_type": "stream",
     "text": [
      "<class 'pandas.core.frame.DataFrame'>\n",
      "RangeIndex: 6108 entries, 0 to 6107\n",
      "Data columns (total 19 columns):\n",
      "BAD               6108 non-null int64\n",
      "LOAN              6108 non-null float64\n",
      "MORTDUE           6108 non-null float64\n",
      "VALUE             6108 non-null float64\n",
      "YOJ               6108 non-null float64\n",
      "CLAGE             6108 non-null float64\n",
      "CLNO              6108 non-null float64\n",
      "DEBTINC           6108 non-null float64\n",
      "REASON_DebtCon    6108 non-null float64\n",
      "REASON_HomeImp    6108 non-null float64\n",
      "JOB_Mgr           6108 non-null float64\n",
      "JOB_Office        6108 non-null float64\n",
      "JOB_Other         6108 non-null float64\n",
      "JOB_ProfExe       6108 non-null float64\n",
      "JOB_Sales         6108 non-null float64\n",
      "JOB_Self          6108 non-null float64\n",
      "DUMM_DEROG        6108 non-null float64\n",
      "DUMM_DELINQ       6108 non-null float64\n",
      "DUMM_NINQ         6108 non-null float64\n",
      "dtypes: float64(18), int64(1)\n",
      "memory usage: 906.8 KB\n"
     ]
    }
   ],
   "source": [
    "train = pd.read_csv('train_balanced.csv')\n",
    "train.info()"
   ]
  },
  {
   "cell_type": "code",
   "execution_count": 112,
   "metadata": {},
   "outputs": [],
   "source": [
    "#to Download for balancing, also df1\n",
    "df_prepr = df"
   ]
  },
  {
   "cell_type": "markdown",
   "metadata": {},
   "source": [
    "## Predictive Modeling "
   ]
  },
  {
   "cell_type": "markdown",
   "metadata": {},
   "source": [
    "Now we turn to the predictive modeling phase. There are many methods that can be used to try to model a binary classification problem like this one. We focus on 4 methods: Random Forest, Gradient Boosting, KNearest Neighbors and Logistic Regression.\n",
    "Feature selection and tuning the hyperparameters are required steps for these methods. "
   ]
  },
  {
   "cell_type": "code",
   "execution_count": 64,
   "metadata": {},
   "outputs": [],
   "source": [
    "from sklearn.model_selection import (train_test_split, cross_val_score, GridSearchCV, RandomizedSearchCV)\n",
    "from sklearn.ensemble import (RandomForestClassifier, GradientBoostingClassifier)\n",
    "from sklearn.neural_network import MLPClassifier \n",
    "from sklearn.neighbors import KNeighborsClassifier\n",
    "from sklearn.linear_model import LogisticRegression\n",
    "from sklearn.metrics import (mean_squared_error, accuracy_score, confusion_matrix, recall_score, precision_score, \n",
    "classification_report, roc_curve, auc) \n",
    "from sklearn.decomposition import PCA\n",
    "from sklearn.preprocessing import (StandardScaler, Normalizer)\n",
    "from sklearn.feature_selection import RFE\n",
    "#from imblearn.over_sampling import SMOTE"
   ]
  },
  {
   "cell_type": "markdown",
   "metadata": {},
   "source": [
    "Set up class for Data split"
   ]
  },
  {
   "cell_type": "code",
   "execution_count": 108,
   "metadata": {},
   "outputs": [],
   "source": [
    "class Data:\n",
    "    def __init__(self, columns, label, df, seed=42):\n",
    "        data = df[columns + label].dropna()\n",
    "        X = data[columns]\n",
    "        y = data[label[0]]\n",
    "\n",
    "        x_train, x_test, y_train, y_test = train_test_split(X, y, test_size=0.2, random_state=42)\n",
    "        self.X, self.y = x_train, y_train\n",
    "        self.vX, self.vy = x_test, y_test\n",
    "    \n",
    "    def train(self):\n",
    "        return self.X, self.y\n",
    "    \n",
    "    def valid(self):\n",
    "        return self.vX, self.vy"
   ]
  },
  {
   "cell_type": "markdown",
   "metadata": {},
   "source": [
    "Tuning function for hyperparameters"
   ]
  },
  {
   "cell_type": "code",
   "execution_count": 66,
   "metadata": {},
   "outputs": [],
   "source": [
    "def tuning(estimator, X, label, grid, one_by_one=False):\n",
    "    \n",
    "    data=Data(X, label) \n",
    "    \n",
    "    if one_by_one:\n",
    "        extra_cl_random = GridSearchCV(estimator=estimator, param_grid=grid)\n",
    "        \n",
    "    else:\n",
    "        extra_cl_random = RandomizedSearchCV(estimator=estimator, param_distributions=grid, n_iter=500, cv=3)\n",
    "    \n",
    "    extra_cl_random.fit(*data.train())\n",
    "        \n",
    "    best = extra_cl_random.best_estimator_\n",
    "    tscore = best.score(*data.train())\n",
    "    vscore = best.score(*data.valid())\n",
    "    params = best.get_params()\n",
    "    \n",
    "    print('vscore:', vscore)\n",
    "    print('best_params:', params) "
   ]
  },
  {
   "cell_type": "code",
   "execution_count": 67,
   "metadata": {},
   "outputs": [],
   "source": [
    "label = ['BAD']\n",
    "columns = ['LOAN', 'MORTDUE', 'VALUE', 'YOJ', 'CLAGE', 'CLNO', 'DEBTINC', 'REASON_DebtCon', 'REASON_HomeImp', 'JOB_Mgr', \n",
    "          'JOB_Office', 'JOB_Other', 'JOB_ProfExe', 'JOB_Sales', 'JOB_Self', 'DUMM_DEROG', 'DUMM_DELINQ', 'DUMM_NINQ'] "
   ]
  },
  {
   "cell_type": "code",
   "execution_count": 92,
   "metadata": {},
   "outputs": [],
   "source": [
    "def rfc(columns, labels, df, **rfc_params):\n",
    "    \n",
    "    data = Data(columns, labels, df)\n",
    "    \n",
    "    rfc = RandomForestClassifier(**rfc_params)\n",
    "    rfc.fit(*data.train())\n",
    "    \n",
    "    tscore = rfc.score(*data.train())\n",
    "    vscore = rfc.score(*data.valid())\n",
    "    \n",
    "    y_true = np.ravel(data.vy)\n",
    "    y_pred = np.ravel(rfc.predict(data.vX))\n",
    "    \n",
    "    acc = accuracy_score(y_true, y_pred)\n",
    "    recall = recall_score(y_true, y_pred, average='binary') \n",
    "    prec = precision_score(y_true, y_pred, average='binary') \n",
    "    \n",
    "    print(\"final tscore=%g vscore=%g\" % (tscore, vscore))\n",
    "    print('accuracy=%g' %(acc))\n",
    "    #print('accuracy=%g recall=%g precision=%g' % (acc, recall, prec))\n",
    "    print(classification_report(y_true, y_pred))\n",
    "    \n",
    "    return rfc, data, tscore, vscore, acc, recall, prec"
   ]
  },
  {
   "cell_type": "code",
   "execution_count": 93,
   "metadata": {},
   "outputs": [],
   "source": [
    "def xgboost(columns, label, df, **xg_params):\n",
    "    \n",
    "    data = Data(columns, label, df)\n",
    "    xgb = GradientBoostingClassifier(**xg_params)\n",
    "    xgb.fit(*data.train())\n",
    "    vscore = xgb.score(*data.valid())\n",
    "    \n",
    "    y_true = np.ravel(data.vy)\n",
    "    y_pred = np.ravel(xgb.predict(data.vX))\n",
    "    \n",
    "    acc = accuracy_score(y_true, y_pred)\n",
    "    recall = recall_score(y_true, y_pred, average='binary') \n",
    "    prec = precision_score(y_true, y_pred, average='binary') \n",
    "    \n",
    "    print('accuracy=%g' %(acc))\n",
    "    print(classification_report(y_true, y_pred))\n",
    "    \n",
    "    #mse = mean_squared_error(*data.valid())\n",
    "    \n",
    "    return vscore, data, xgb, acc, recall, prec"
   ]
  },
  {
   "cell_type": "code",
   "execution_count": 94,
   "metadata": {},
   "outputs": [],
   "source": [
    "def knn(X, labels, df, **knn_params): \n",
    "    data = Data(X,labels, df)\n",
    "    neigh = KNeighborsClassifier(**knn_params)\n",
    "    neigh.fit(*data.train())\n",
    "    score_train = neigh.score(*data.train())\n",
    "    score = neigh.score(*data.valid())\n",
    "    \n",
    "    y_true = np.ravel(data.vy)\n",
    "    y_pred = np.ravel(neigh.predict(data.vX))\n",
    "    \n",
    "    acc = accuracy_score(y_true, y_pred)\n",
    "    recall = recall_score(y_true, y_pred, average='binary') \n",
    "    prec = precision_score(y_true, y_pred, average='binary') \n",
    "    \n",
    "    print('accuracy:', (acc)) \n",
    "    print(classification_report(y_true, y_pred))\n",
    "    \n",
    "    return neigh, data, score_train, score, acc, recall, prec"
   ]
  },
  {
   "cell_type": "code",
   "execution_count": 95,
   "metadata": {},
   "outputs": [],
   "source": [
    "def log_reg(X, labels, df, feat_sel=False, **lg_params):\n",
    "    \n",
    "    data = Data(X, labels, df)\n",
    "    lg = LogisticRegression(**lg_params)\n",
    "    \n",
    "    if feat_sel==True:\n",
    "        selector = RFE(lg, 10, step=1)\n",
    "        lg = selector.fit(*data.train())\n",
    "        print(lg.support_) \n",
    "    \n",
    "    lg = lg.fit(*data.train())\n",
    "    y_true = np.ravel(data.vy)\n",
    "    y_pred = np.ravel(lg.predict(data.vX))\n",
    "    acc = accuracy_score(y_true, y_pred)\n",
    "    recall = recall_score(y_true, y_pred, average='binary') \n",
    "    prec = precision_score(y_true, y_pred, average='binary') \n",
    "    \n",
    "    print('accuracy=%g' %(acc))\n",
    "    print(classification_report(y_true, y_pred))\n",
    "    \n",
    "    return lg, data,acc, recall, prec\n"
   ]
  },
  {
   "cell_type": "code",
   "execution_count": 72,
   "metadata": {},
   "outputs": [],
   "source": [
    "def roc_plot(y_true, scores):\n",
    "    fpr, tpr, thresholds = roc_curve(y_true, scores[:, 1])\n",
    "    plt.figure()\n",
    "    plt.plot(fpr, tpr, label='ROC curve (area = %0.2f)' % auc(fpr, tpr))\n",
    "    plt.plot([0, 1], [0, 1], 'k--')\n",
    "    plt.xlim([0.0, 1.0])\n",
    "    plt.ylim([0.0, 1.0])\n",
    "    plt.xlabel('False Positive Rate')\n",
    "    plt.ylabel('True Positive Rate')\n",
    "    plt.title(\"ROC curve\")\n",
    "    plt.legend(loc=\"lower right\")\n",
    "    plt.show()"
   ]
  },
  {
   "cell_type": "code",
   "execution_count": 34,
   "metadata": {},
   "outputs": [
    {
     "data": {
      "text/plain": [
       "<matplotlib.axes._subplots.AxesSubplot at 0x1669b832cc0>"
      ]
     },
     "execution_count": 34,
     "metadata": {},
     "output_type": "execute_result"
    },
    {
     "data": {
      "image/png": "[encoded data removed]",
      "text/plain": [
       "<Figure size 432x288 with 1 Axes>"
      ]
     },
     "metadata": {},
     "output_type": "display_data"
    }
   ],
   "source": [
    "sns.countplot(df1['BAD'])"
   ]
  },
  {
   "cell_type": "code",
   "execution_count": 35,
   "metadata": {},
   "outputs": [
    {
     "data": {
      "text/plain": [
       "<matplotlib.axes._subplots.AxesSubplot at 0x1669b86d080>"
      ]
     },
     "execution_count": 35,
     "metadata": {},
     "output_type": "execute_result"
    },
    {
     "data": {
      "image/png": "[encoded data removed]",
      "text/plain": [
       "<Figure size 432x288 with 1 Axes>"
      ]
     },
     "metadata": {},
     "output_type": "display_data"
    }
   ],
   "source": [
    "sns.countplot(df['BAD'])"
   ]
  },
  {
   "cell_type": "code",
   "execution_count": 114,
   "metadata": {},
   "outputs": [
    {
     "name": "stdout",
     "output_type": "stream",
     "text": [
      "<class 'pandas.core.frame.DataFrame'>\n",
      "RangeIndex: 7650 entries, 0 to 7649\n",
      "Data columns (total 19 columns):\n",
      "BAD               7650 non-null int64\n",
      "LOAN              7650 non-null float64\n",
      "MORTDUE           7650 non-null float64\n",
      "VALUE             7650 non-null float64\n",
      "YOJ               7650 non-null float64\n",
      "CLAGE             7650 non-null float64\n",
      "CLNO              7650 non-null float64\n",
      "DEBTINC           7650 non-null float64\n",
      "REASON_DebtCon    7650 non-null float64\n",
      "REASON_HomeImp    7650 non-null float64\n",
      "JOB_Mgr           7650 non-null float64\n",
      "JOB_Office        7650 non-null float64\n",
      "JOB_Other         7650 non-null float64\n",
      "JOB_ProfExe       7650 non-null float64\n",
      "JOB_Sales         7650 non-null float64\n",
      "JOB_Self          7650 non-null float64\n",
      "DUMM_DEROG        7650 non-null float64\n",
      "DUMM_DELINQ       7650 non-null float64\n",
      "DUMM_NINQ         7650 non-null float64\n",
      "dtypes: float64(18), int64(1)\n",
      "memory usage: 1.1 MB\n"
     ]
    }
   ],
   "source": [
    "#Balanced using SMOTE \n",
    "df = pd.read_csv('balanced_dataset.csv')\n",
    "df.info()"
   ]
  },
  {
   "cell_type": "code",
   "execution_count": 115,
   "metadata": {},
   "outputs": [
    {
     "name": "stdout",
     "output_type": "stream",
     "text": [
      "<class 'pandas.core.frame.DataFrame'>\n",
      "RangeIndex: 8514 entries, 0 to 8513\n",
      "Data columns (total 19 columns):\n",
      "BAD               8514 non-null int64\n",
      "LOAN              8514 non-null float64\n",
      "MORTDUE           8514 non-null float64\n",
      "VALUE             8514 non-null float64\n",
      "YOJ               8514 non-null float64\n",
      "CLAGE             8514 non-null float64\n",
      "CLNO              8514 non-null float64\n",
      "DEBTINC           8514 non-null float64\n",
      "REASON_DebtCon    8514 non-null float64\n",
      "REASON_HomeImp    8514 non-null float64\n",
      "JOB_Mgr           8514 non-null float64\n",
      "JOB_Office        8514 non-null float64\n",
      "JOB_Other         8514 non-null float64\n",
      "JOB_ProfExe       8514 non-null float64\n",
      "JOB_Sales         8514 non-null float64\n",
      "JOB_Self          8514 non-null float64\n",
      "DUMM_DEROG        8514 non-null float64\n",
      "DUMM_DELINQ       8514 non-null float64\n",
      "DUMM_NINQ         8514 non-null float64\n",
      "dtypes: float64(18), int64(1)\n",
      "memory usage: 1.2 MB\n"
     ]
    }
   ],
   "source": [
    "df1 = pd.read_csv('balanced_dataset1.csv')\n",
    "df1.info() "
   ]
  },
  {
   "cell_type": "code",
   "execution_count": 116,
   "metadata": {},
   "outputs": [
    {
     "data": {
      "text/plain": [
       "<matplotlib.axes._subplots.AxesSubplot at 0x1e9d79d2348>"
      ]
     },
     "execution_count": 116,
     "metadata": {},
     "output_type": "execute_result"
    },
    {
     "data": {
      "image/png": "[encoded data removed]",
      "text/plain": [
       "<Figure size 432x288 with 1 Axes>"
      ]
     },
     "metadata": {
      "needs_background": "light"
     },
     "output_type": "display_data"
    }
   ],
   "source": [
    "sns.countplot(df['BAD']) "
   ]
  },
  {
   "cell_type": "code",
   "execution_count": 117,
   "metadata": {},
   "outputs": [
    {
     "data": {
      "text/plain": [
       "<matplotlib.axes._subplots.AxesSubplot at 0x1e9d79d2088>"
      ]
     },
     "execution_count": 117,
     "metadata": {},
     "output_type": "execute_result"
    },
    {
     "data": {
      "image/png": "[encoded data removed]",
      "text/plain": [
       "<Figure size 432x288 with 1 Axes>"
      ]
     },
     "metadata": {
      "needs_background": "light"
     },
     "output_type": "display_data"
    }
   ],
   "source": [
    "sns.countplot(df1['BAD'])"
   ]
  },
  {
   "cell_type": "markdown",
   "metadata": {},
   "source": [
    "## Evaluation Metrics"
   ]
  },
  {
   "cell_type": "markdown",
   "metadata": {},
   "source": [
    "1- Confusion Matrix:\n",
    "\n",
    "Summary of prediction results on a classification problem. A confusion matrix for binary classification shows the four different outcomes: true positive, false positive, true negative, and false negative.\n",
    "\n",
    "• True Positive - Targets which are actually true(Y) and you also predicted them true(Y)\n",
    "<br>\n",
    "• True Negative - Targets which are actually false(N) and you also predicted them false(N) \n",
    "<br>\n",
    "• False Positive - Targets which are actually false(N) but you predicted them true(T) \n",
    "<br>\n",
    "• False Negative - Targets which are actually true(T) but you predicted them false(N)\n",
    "<br>\n",
    "\n",
    "2- Accuracy = TP + TN / (TP + TN + FP + FN)\n",
    "<br>\n",
    "3- Precision = TP / (TP + FP)\n",
    "<br>\n",
    "4- Recall (Sensitivity) = TP / (TP + FN)\n",
    "<br>\n",
    "5- Specificity = TN / (TN + FP)\n",
    "<br>\n",
    "6- ROC curve (based on Specificity and Sensitivity)"
   ]
  },
  {
   "cell_type": "markdown",
   "metadata": {},
   "source": [
    "## Random Forest Classifier  "
   ]
  },
  {
   "cell_type": "code",
   "execution_count": 157,
   "metadata": {},
   "outputs": [
    {
     "name": "stdout",
     "output_type": "stream",
     "text": [
      "final tscore=0.999853 vscore=0.96007\n",
      "accuracy=0.96007\n",
      "              precision    recall  f1-score   support\n",
      "\n",
      "           0       0.96      0.96      0.96       853\n",
      "           1       0.96      0.96      0.96       850\n",
      "\n",
      "    accuracy                           0.96      1703\n",
      "   macro avg       0.96      0.96      0.96      1703\n",
      "weighted avg       0.96      0.96      0.96      1703\n",
      "\n"
     ]
    }
   ],
   "source": [
    "rfc_, data, tscore, vscore, acc1, recall1, prec1 = rfc(columns, label, df1, n_estimators=100, criterion='gini', max_depth=None,\n",
    "                                     min_samples_split=5, min_samples_leaf=1, min_weight_fraction_leaf=0.0,\n",
    "                                     max_features='auto', max_leaf_nodes=None, bootstrap=True, oob_score=False,\n",
    "                                     n_jobs=1, random_state=42) "
   ]
  },
  {
   "cell_type": "code",
   "execution_count": 138,
   "metadata": {},
   "outputs": [
    {
     "data": {
      "text/html": [
       "<div>\n",
       "<style scoped>\n",
       "    .dataframe tbody tr th:only-of-type {\n",
       "        vertical-align: middle;\n",
       "    }\n",
       "\n",
       "    .dataframe tbody tr th {\n",
       "        vertical-align: top;\n",
       "    }\n",
       "\n",
       "    .dataframe thead th {\n",
       "        text-align: right;\n",
       "    }\n",
       "</style>\n",
       "<table border=\"1\" class=\"dataframe\">\n",
       "  <thead>\n",
       "    <tr style=\"text-align: right;\">\n",
       "      <th></th>\n",
       "      <th>0</th>\n",
       "      <th>1</th>\n",
       "    </tr>\n",
       "  </thead>\n",
       "  <tbody>\n",
       "    <tr>\n",
       "      <td>0</td>\n",
       "      <td>816</td>\n",
       "      <td>37</td>\n",
       "    </tr>\n",
       "    <tr>\n",
       "      <td>1</td>\n",
       "      <td>31</td>\n",
       "      <td>819</td>\n",
       "    </tr>\n",
       "  </tbody>\n",
       "</table>\n",
       "</div>"
      ],
      "text/plain": [
       "     0    1\n",
       "0  816   37\n",
       "1   31  819"
      ]
     },
     "execution_count": 138,
     "metadata": {},
     "output_type": "execute_result"
    }
   ],
   "source": [
    "y_true = np.ravel(data.vy)\n",
    "y_pred = np.ravel(rfc_.predict(data.vX))\n",
    "pd.DataFrame(confusion_matrix(y_true, y_pred)) "
   ]
  },
  {
   "cell_type": "code",
   "execution_count": 139,
   "metadata": {},
   "outputs": [
    {
     "data": {
      "image/png": "[encoded data removed]",
      "text/plain": [
       "<Figure size 432x288 with 1 Axes>"
      ]
     },
     "metadata": {
      "needs_background": "light"
     },
     "output_type": "display_data"
    }
   ],
   "source": [
    "scores = rfc_.predict_proba(data.vX)\n",
    "roc_plot(y_true, scores)"
   ]
  },
  {
   "cell_type": "code",
   "execution_count": 158,
   "metadata": {},
   "outputs": [
    {
     "name": "stdout",
     "output_type": "stream",
     "text": [
      "final tscore=0.995232 vscore=0.945238\n",
      "accuracy=0.945238\n",
      "              precision    recall  f1-score   support\n",
      "\n",
      "           0       0.94      1.00      0.97       771\n",
      "           1       0.96      0.35      0.51        69\n",
      "\n",
      "    accuracy                           0.95       840\n",
      "   macro avg       0.95      0.67      0.74       840\n",
      "weighted avg       0.95      0.95      0.93       840\n",
      "\n"
     ]
    }
   ],
   "source": [
    "rfc_1, data1, tscore1, vscore1, acc11, recall11, prec11 = rfc(columns, label, df_prepr, n_estimators=100, criterion='gini', max_depth=None,\n",
    "                                     min_samples_split=5, min_samples_leaf=1, min_weight_fraction_leaf=0.0,\n",
    "                                     max_features='auto', max_leaf_nodes=None, bootstrap=True, oob_score=False,\n",
    "                                     n_jobs=1, random_state=42) "
   ]
  },
  {
   "cell_type": "code",
   "execution_count": 141,
   "metadata": {},
   "outputs": [
    {
     "data": {
      "text/html": [
       "<div>\n",
       "<style scoped>\n",
       "    .dataframe tbody tr th:only-of-type {\n",
       "        vertical-align: middle;\n",
       "    }\n",
       "\n",
       "    .dataframe tbody tr th {\n",
       "        vertical-align: top;\n",
       "    }\n",
       "\n",
       "    .dataframe thead th {\n",
       "        text-align: right;\n",
       "    }\n",
       "</style>\n",
       "<table border=\"1\" class=\"dataframe\">\n",
       "  <thead>\n",
       "    <tr style=\"text-align: right;\">\n",
       "      <th></th>\n",
       "      <th>0</th>\n",
       "      <th>1</th>\n",
       "    </tr>\n",
       "  </thead>\n",
       "  <tbody>\n",
       "    <tr>\n",
       "      <td>0</td>\n",
       "      <td>770</td>\n",
       "      <td>1</td>\n",
       "    </tr>\n",
       "    <tr>\n",
       "      <td>1</td>\n",
       "      <td>45</td>\n",
       "      <td>24</td>\n",
       "    </tr>\n",
       "  </tbody>\n",
       "</table>\n",
       "</div>"
      ],
      "text/plain": [
       "     0   1\n",
       "0  770   1\n",
       "1   45  24"
      ]
     },
     "execution_count": 141,
     "metadata": {},
     "output_type": "execute_result"
    }
   ],
   "source": [
    "y_true1 = np.ravel(data1.vy)\n",
    "y_pred1 = np.ravel(rfc_1.predict(data1.vX))\n",
    "pd.DataFrame(confusion_matrix(y_true1, y_pred1)) "
   ]
  },
  {
   "cell_type": "code",
   "execution_count": 142,
   "metadata": {},
   "outputs": [
    {
     "data": {
      "image/png": "[encoded data removed]",
      "text/plain": [
       "<Figure size 432x288 with 1 Axes>"
      ]
     },
     "metadata": {
      "needs_background": "light"
     },
     "output_type": "display_data"
    }
   ],
   "source": [
    "scores1 = rfc_1.predict_proba(data1.vX)\n",
    "roc_plot(y_true1, scores1) "
   ]
  },
  {
   "cell_type": "code",
   "execution_count": 120,
   "metadata": {},
   "outputs": [
    {
     "data": {
      "text/plain": [
       "<matplotlib.axes._subplots.AxesSubplot at 0x1e9d8cedb48>"
      ]
     },
     "execution_count": 120,
     "metadata": {},
     "output_type": "execute_result"
    },
    {
     "data": {
      "image/png": "[encoded data removed]",
      "text/plain": [
       "<Figure size 1080x540 with 1 Axes>"
      ]
     },
     "metadata": {
      "needs_background": "light"
     },
     "output_type": "display_data"
    }
   ],
   "source": [
    "#feature importance, Balanced dataset used\n",
    "feat_map = pd.Series(rfc_.feature_importances_, index=columns).sort_values(ascending=False)\n",
    "feat_map.plot(kind='bar', figsize=(15,7.5),title='Feature Importance of Random Forest')"
   ]
  },
  {
   "cell_type": "markdown",
   "metadata": {},
   "source": [
    "DEBTINC is by far the most important feature. Clearly the ratio is relevant for predicting the clients' default. It's followed by delinquent lines variables and VALUE, CLAGE, LOAN, CLNO, MORTDUE. As expected VALUE and LOAN are among the most representative features. The JOB category seems to get a small weight instead.  "
   ]
  },
  {
   "cell_type": "code",
   "execution_count": 22,
   "metadata": {},
   "outputs": [],
   "source": [
    "n_estimators = [int(x) for x in np.linspace(start = 10, stop = 200, num = 10)]\n",
    "max_features = ['auto', 'sqrt', 'log2', None]\n",
    "max_depth = [int(x) for x in np.linspace(10, 300, num = 10)]\n",
    "max_depth.append(None)\n",
    "min_samples_split = [2, 5, 10] \n",
    "min_samples_leaf = [1, 2, 4]\n",
    "bootstrap = [True, False]\n",
    "criterion = ['gini', 'entropy']\n",
    "random_state = [100]\n",
    "\n",
    "random_grid = {'n_estimators': n_estimators,\n",
    "               'max_features': max_features,\n",
    "               'max_depth': max_depth,\n",
    "               'min_samples_split': min_samples_split,\n",
    "               'min_samples_leaf': min_samples_leaf,\n",
    "               'bootstrap': bootstrap,\n",
    "               'criterion': criterion,\n",
    "               'random_state': random_state} "
   ]
  },
  {
   "cell_type": "code",
   "execution_count": 23,
   "metadata": {},
   "outputs": [
    {
     "name": "stdout",
     "output_type": "stream",
     "text": [
      "vscore: 0.9535714285714286\n",
      "best_params: {'bootstrap': False, 'class_weight': None, 'criterion': 'gini', 'max_depth': 106, 'max_features': 'sqrt', 'max_leaf_nodes': None, 'min_impurity_decrease': 0.0, 'min_impurity_split': None, 'min_samples_leaf': 1, 'min_samples_split': 2, 'min_weight_fraction_leaf': 0.0, 'n_estimators': 115, 'n_jobs': None, 'oob_score': False, 'random_state': 100, 'verbose': 0, 'warm_start': False}\n"
     ]
    }
   ],
   "source": [
    "tuning(RandomForestClassifier(), columns, label, random_grid) "
   ]
  },
  {
   "cell_type": "markdown",
   "metadata": {},
   "source": [
    "## Gradient Boosting "
   ]
  },
  {
   "cell_type": "code",
   "execution_count": 125,
   "metadata": {},
   "outputs": [
    {
     "name": "stdout",
     "output_type": "stream",
     "text": [
      "accuracy=0.908984\n",
      "              precision    recall  f1-score   support\n",
      "\n",
      "           0       0.89      0.93      0.91       853\n",
      "           1       0.93      0.89      0.91       850\n",
      "\n",
      "    accuracy                           0.91      1703\n",
      "   macro avg       0.91      0.91      0.91      1703\n",
      "weighted avg       0.91      0.91      0.91      1703\n",
      "\n"
     ]
    }
   ],
   "source": [
    "vscore, data, xgb, acc2, recall2, prec2 = xgboost(columns, label, df1, random_state=42) "
   ]
  },
  {
   "cell_type": "code",
   "execution_count": 126,
   "metadata": {},
   "outputs": [
    {
     "name": "stdout",
     "output_type": "stream",
     "text": [
      "accuracy=0.940476\n",
      "              precision    recall  f1-score   support\n",
      "\n",
      "           0       0.94      0.99      0.97       771\n",
      "           1       0.85      0.33      0.48        69\n",
      "\n",
      "    accuracy                           0.94       840\n",
      "   macro avg       0.90      0.66      0.72       840\n",
      "weighted avg       0.94      0.94      0.93       840\n",
      "\n"
     ]
    }
   ],
   "source": [
    "#Unbalanced dataset \n",
    "vscore1, data1, xgb1, acc21, recall21, prec21 = xgboost(columns, label, df_prepr, random_state=42) "
   ]
  },
  {
   "cell_type": "code",
   "execution_count": 132,
   "metadata": {},
   "outputs": [
    {
     "data": {
      "text/html": [
       "<div>\n",
       "<style scoped>\n",
       "    .dataframe tbody tr th:only-of-type {\n",
       "        vertical-align: middle;\n",
       "    }\n",
       "\n",
       "    .dataframe tbody tr th {\n",
       "        vertical-align: top;\n",
       "    }\n",
       "\n",
       "    .dataframe thead th {\n",
       "        text-align: right;\n",
       "    }\n",
       "</style>\n",
       "<table border=\"1\" class=\"dataframe\">\n",
       "  <thead>\n",
       "    <tr style=\"text-align: right;\">\n",
       "      <th></th>\n",
       "      <th>0</th>\n",
       "      <th>1</th>\n",
       "    </tr>\n",
       "  </thead>\n",
       "  <tbody>\n",
       "    <tr>\n",
       "      <td>0</td>\n",
       "      <td>795</td>\n",
       "      <td>58</td>\n",
       "    </tr>\n",
       "    <tr>\n",
       "      <td>1</td>\n",
       "      <td>97</td>\n",
       "      <td>753</td>\n",
       "    </tr>\n",
       "  </tbody>\n",
       "</table>\n",
       "</div>"
      ],
      "text/plain": [
       "     0    1\n",
       "0  795   58\n",
       "1   97  753"
      ]
     },
     "execution_count": 132,
     "metadata": {},
     "output_type": "execute_result"
    }
   ],
   "source": [
    "y_true = np.ravel(data.vy)\n",
    "y_pred = np.ravel(xgb.predict(data.vX))\n",
    "pd.DataFrame(confusion_matrix(y_true, y_pred)) "
   ]
  },
  {
   "cell_type": "code",
   "execution_count": 131,
   "metadata": {},
   "outputs": [
    {
     "data": {
      "text/html": [
       "<div>\n",
       "<style scoped>\n",
       "    .dataframe tbody tr th:only-of-type {\n",
       "        vertical-align: middle;\n",
       "    }\n",
       "\n",
       "    .dataframe tbody tr th {\n",
       "        vertical-align: top;\n",
       "    }\n",
       "\n",
       "    .dataframe thead th {\n",
       "        text-align: right;\n",
       "    }\n",
       "</style>\n",
       "<table border=\"1\" class=\"dataframe\">\n",
       "  <thead>\n",
       "    <tr style=\"text-align: right;\">\n",
       "      <th></th>\n",
       "      <th>0</th>\n",
       "      <th>1</th>\n",
       "    </tr>\n",
       "  </thead>\n",
       "  <tbody>\n",
       "    <tr>\n",
       "      <td>0</td>\n",
       "      <td>767</td>\n",
       "      <td>4</td>\n",
       "    </tr>\n",
       "    <tr>\n",
       "      <td>1</td>\n",
       "      <td>46</td>\n",
       "      <td>23</td>\n",
       "    </tr>\n",
       "  </tbody>\n",
       "</table>\n",
       "</div>"
      ],
      "text/plain": [
       "     0   1\n",
       "0  767   4\n",
       "1   46  23"
      ]
     },
     "execution_count": 131,
     "metadata": {},
     "output_type": "execute_result"
    }
   ],
   "source": [
    "y_true1 = np.ravel(data1.vy)\n",
    "y_pred1 = np.ravel(xgb1.predict(data1.vX))\n",
    "pd.DataFrame(confusion_matrix(y_true1, y_pred1)) "
   ]
  },
  {
   "cell_type": "code",
   "execution_count": 133,
   "metadata": {},
   "outputs": [
    {
     "data": {
      "image/png": "[encoded data removed]",
      "text/plain": [
       "<Figure size 432x288 with 1 Axes>"
      ]
     },
     "metadata": {
      "needs_background": "light"
     },
     "output_type": "display_data"
    }
   ],
   "source": [
    "scores = xgb.predict_proba(data.vX)\n",
    "roc_plot(y_true, scores)"
   ]
  },
  {
   "cell_type": "code",
   "execution_count": 135,
   "metadata": {},
   "outputs": [
    {
     "data": {
      "image/png": "[encoded data removed]",
      "text/plain": [
       "<Figure size 432x288 with 1 Axes>"
      ]
     },
     "metadata": {
      "needs_background": "light"
     },
     "output_type": "display_data"
    }
   ],
   "source": [
    "scores1 = xgb.predict_proba(data1.vX)\n",
    "roc_plot(y_true1, scores1) "
   ]
  },
  {
   "cell_type": "code",
   "execution_count": 136,
   "metadata": {},
   "outputs": [
    {
     "data": {
      "text/plain": [
       "array([4.44481326e-02, 1.86769765e-02, 2.31857811e-02, 1.78884749e-02,\n",
       "       6.57295578e-02, 2.51447877e-02, 2.73390469e-01, 1.05789418e-02,\n",
       "       4.82033573e-03, 3.67335226e-03, 1.96653807e-02, 3.56768474e-02,\n",
       "       4.82716550e-03, 4.53181066e-03, 4.69173262e-08, 9.48773903e-02,\n",
       "       2.84179039e-01, 6.87055097e-02])"
      ]
     },
     "execution_count": 136,
     "metadata": {},
     "output_type": "execute_result"
    }
   ],
   "source": [
    "xgb.feature_importances_"
   ]
  },
  {
   "cell_type": "code",
   "execution_count": 65,
   "metadata": {},
   "outputs": [],
   "source": [
    "n_estimators = [int(x) for x in np.linspace(start = 10, stop = 200, num = 10)]\n",
    "loss = ['Deviance', 'Exponential'] \n",
    "max_features = ['auto', 'sqrt', 'log2', None]\n",
    "max_depth = [int(x) for x in np.linspace(10, 300, num = 10)]\n",
    "max_depth.append(None)\n",
    "min_samples_split = [2, 5, 10] \n",
    "min_samples_leaf = [1, 2, 4]\n",
    "criterion = ['friedman_mse', 'mse', 'mae']\n",
    "random_state = [100]\n",
    "\n",
    "random_grid = {'n_estimators': n_estimators,\n",
    "               'max_features': max_features,\n",
    "               'max_depth': max_depth,\n",
    "               'min_samples_split': min_samples_split,\n",
    "               'min_samples_leaf': min_samples_leaf,\n",
    "               'criterion': criterion,\n",
    "               'random_state': random_state} "
   ]
  },
  {
   "cell_type": "markdown",
   "metadata": {},
   "source": [
    "## KNN"
   ]
  },
  {
   "cell_type": "code",
   "execution_count": 144,
   "metadata": {},
   "outputs": [
    {
     "name": "stdout",
     "output_type": "stream",
     "text": [
      "accuracy: 0.830886670581327\n",
      "              precision    recall  f1-score   support\n",
      "\n",
      "           0       0.89      0.76      0.82       853\n",
      "           1       0.79      0.90      0.84       850\n",
      "\n",
      "    accuracy                           0.83      1703\n",
      "   macro avg       0.84      0.83      0.83      1703\n",
      "weighted avg       0.84      0.83      0.83      1703\n",
      "\n"
     ]
    }
   ],
   "source": [
    "neigh, data, score_train, score, acc3, recall3, prec3 = knn(columns, label, df1, weights='distance') "
   ]
  },
  {
   "cell_type": "code",
   "execution_count": 145,
   "metadata": {},
   "outputs": [
    {
     "name": "stdout",
     "output_type": "stream",
     "text": [
      "accuracy: 0.9202380952380952\n",
      "              precision    recall  f1-score   support\n",
      "\n",
      "           0       0.93      0.99      0.96       771\n",
      "           1       0.57      0.12      0.19        69\n",
      "\n",
      "    accuracy                           0.92       840\n",
      "   macro avg       0.75      0.55      0.58       840\n",
      "weighted avg       0.90      0.92      0.90       840\n",
      "\n"
     ]
    }
   ],
   "source": [
    "neigh1, data1, score_train1, score1, acc31, recall31, prec31 = knn(columns, label, df_prepr, weights='distance') "
   ]
  },
  {
   "cell_type": "code",
   "execution_count": 146,
   "metadata": {},
   "outputs": [
    {
     "data": {
      "text/html": [
       "<div>\n",
       "<style scoped>\n",
       "    .dataframe tbody tr th:only-of-type {\n",
       "        vertical-align: middle;\n",
       "    }\n",
       "\n",
       "    .dataframe tbody tr th {\n",
       "        vertical-align: top;\n",
       "    }\n",
       "\n",
       "    .dataframe thead th {\n",
       "        text-align: right;\n",
       "    }\n",
       "</style>\n",
       "<table border=\"1\" class=\"dataframe\">\n",
       "  <thead>\n",
       "    <tr style=\"text-align: right;\">\n",
       "      <th></th>\n",
       "      <th>0</th>\n",
       "      <th>1</th>\n",
       "    </tr>\n",
       "  </thead>\n",
       "  <tbody>\n",
       "    <tr>\n",
       "      <td>0</td>\n",
       "      <td>648</td>\n",
       "      <td>205</td>\n",
       "    </tr>\n",
       "    <tr>\n",
       "      <td>1</td>\n",
       "      <td>83</td>\n",
       "      <td>767</td>\n",
       "    </tr>\n",
       "  </tbody>\n",
       "</table>\n",
       "</div>"
      ],
      "text/plain": [
       "     0    1\n",
       "0  648  205\n",
       "1   83  767"
      ]
     },
     "execution_count": 146,
     "metadata": {},
     "output_type": "execute_result"
    }
   ],
   "source": [
    "y_true = np.ravel(data.vy)\n",
    "y_pred = np.ravel(neigh.predict(data.vX))\n",
    "pd.DataFrame(confusion_matrix(y_true, y_pred)) "
   ]
  },
  {
   "cell_type": "code",
   "execution_count": 147,
   "metadata": {},
   "outputs": [
    {
     "data": {
      "text/html": [
       "<div>\n",
       "<style scoped>\n",
       "    .dataframe tbody tr th:only-of-type {\n",
       "        vertical-align: middle;\n",
       "    }\n",
       "\n",
       "    .dataframe tbody tr th {\n",
       "        vertical-align: top;\n",
       "    }\n",
       "\n",
       "    .dataframe thead th {\n",
       "        text-align: right;\n",
       "    }\n",
       "</style>\n",
       "<table border=\"1\" class=\"dataframe\">\n",
       "  <thead>\n",
       "    <tr style=\"text-align: right;\">\n",
       "      <th></th>\n",
       "      <th>0</th>\n",
       "      <th>1</th>\n",
       "    </tr>\n",
       "  </thead>\n",
       "  <tbody>\n",
       "    <tr>\n",
       "      <td>0</td>\n",
       "      <td>765</td>\n",
       "      <td>6</td>\n",
       "    </tr>\n",
       "    <tr>\n",
       "      <td>1</td>\n",
       "      <td>61</td>\n",
       "      <td>8</td>\n",
       "    </tr>\n",
       "  </tbody>\n",
       "</table>\n",
       "</div>"
      ],
      "text/plain": [
       "     0  1\n",
       "0  765  6\n",
       "1   61  8"
      ]
     },
     "execution_count": 147,
     "metadata": {},
     "output_type": "execute_result"
    }
   ],
   "source": [
    "y_true1 = np.ravel(data1.vy)\n",
    "y_pred1 = np.ravel(neigh1.predict(data1.vX))\n",
    "pd.DataFrame(confusion_matrix(y_true1, y_pred1)) "
   ]
  },
  {
   "cell_type": "code",
   "execution_count": 148,
   "metadata": {},
   "outputs": [
    {
     "data": {
      "image/png": "[encoded data removed]",
      "text/plain": [
       "<Figure size 432x288 with 1 Axes>"
      ]
     },
     "metadata": {
      "needs_background": "light"
     },
     "output_type": "display_data"
    }
   ],
   "source": [
    "scores = neigh.predict_proba(data.vX)\n",
    "roc_plot(y_true, scores) "
   ]
  },
  {
   "cell_type": "code",
   "execution_count": 149,
   "metadata": {},
   "outputs": [
    {
     "data": {
      "image/png": "[encoded data removed]",
      "text/plain": [
       "<Figure size 432x288 with 1 Axes>"
      ]
     },
     "metadata": {
      "needs_background": "light"
     },
     "output_type": "display_data"
    }
   ],
   "source": [
    "scores1 = neigh1.predict_proba(data1.vX)\n",
    "roc_plot(y_true1, scores1) "
   ]
  },
  {
   "cell_type": "markdown",
   "metadata": {},
   "source": [
    "## Logistic Regression  "
   ]
  },
  {
   "cell_type": "code",
   "execution_count": 152,
   "metadata": {},
   "outputs": [
    {
     "name": "stdout",
     "output_type": "stream",
     "text": [
      "accuracy=0.677041\n",
      "              precision    recall  f1-score   support\n",
      "\n",
      "           0       0.71      0.60      0.65       853\n",
      "           1       0.65      0.75      0.70       850\n",
      "\n",
      "    accuracy                           0.68      1703\n",
      "   macro avg       0.68      0.68      0.68      1703\n",
      "weighted avg       0.68      0.68      0.68      1703\n",
      "\n"
     ]
    },
    {
     "name": "stderr",
     "output_type": "stream",
     "text": [
      "C:\\Users\\giamm\\Anaconda3.1\\lib\\site-packages\\sklearn\\linear_model\\logistic.py:432: FutureWarning: Default solver will be changed to 'lbfgs' in 0.22. Specify a solver to silence this warning.\n",
      "  FutureWarning)\n"
     ]
    }
   ],
   "source": [
    "lg, data, acc4, recall4, prec4 = log_reg(columns, label, df1) "
   ]
  },
  {
   "cell_type": "code",
   "execution_count": 153,
   "metadata": {},
   "outputs": [
    {
     "data": {
      "text/html": [
       "<div>\n",
       "<style scoped>\n",
       "    .dataframe tbody tr th:only-of-type {\n",
       "        vertical-align: middle;\n",
       "    }\n",
       "\n",
       "    .dataframe tbody tr th {\n",
       "        vertical-align: top;\n",
       "    }\n",
       "\n",
       "    .dataframe thead th {\n",
       "        text-align: right;\n",
       "    }\n",
       "</style>\n",
       "<table border=\"1\" class=\"dataframe\">\n",
       "  <thead>\n",
       "    <tr style=\"text-align: right;\">\n",
       "      <th></th>\n",
       "      <th>0</th>\n",
       "      <th>1</th>\n",
       "    </tr>\n",
       "  </thead>\n",
       "  <tbody>\n",
       "    <tr>\n",
       "      <td>0</td>\n",
       "      <td>512</td>\n",
       "      <td>341</td>\n",
       "    </tr>\n",
       "    <tr>\n",
       "      <td>1</td>\n",
       "      <td>209</td>\n",
       "      <td>641</td>\n",
       "    </tr>\n",
       "  </tbody>\n",
       "</table>\n",
       "</div>"
      ],
      "text/plain": [
       "     0    1\n",
       "0  512  341\n",
       "1  209  641"
      ]
     },
     "execution_count": 153,
     "metadata": {},
     "output_type": "execute_result"
    }
   ],
   "source": [
    "y_true = np.ravel(data.vy)\n",
    "y_pred = np.ravel(lg.predict(data.vX))\n",
    "pd.DataFrame(confusion_matrix(y_true, y_pred))"
   ]
  },
  {
   "cell_type": "code",
   "execution_count": 154,
   "metadata": {},
   "outputs": [
    {
     "data": {
      "image/png": "[encoded data removed]",
      "text/plain": [
       "<Figure size 432x288 with 1 Axes>"
      ]
     },
     "metadata": {
      "needs_background": "light"
     },
     "output_type": "display_data"
    }
   ],
   "source": [
    "scores = lg.predict_proba(data.vX)\n",
    "roc_plot(y_true, scores)"
   ]
  },
  {
   "cell_type": "code",
   "execution_count": 155,
   "metadata": {},
   "outputs": [
    {
     "data": {
      "text/plain": [
       "array([[0.99997733, 0.99999477, 1.00000197, 0.98884372, 0.99355385,\n",
       "        1.0110924 , 1.04390181, 0.99667274, 1.00378706, 1.00165025,\n",
       "        0.99206971, 1.00527356, 0.99832875, 1.00133778, 1.00183786,\n",
       "        1.01766709, 1.02690293, 1.01349479]])"
      ]
     },
     "execution_count": 155,
     "metadata": {},
     "output_type": "execute_result"
    }
   ],
   "source": [
    "# Odds ratio corresponding to a unit increase of the independent variable\n",
    "np.exp(lg.coef_) "
   ]
  },
  {
   "cell_type": "markdown",
   "metadata": {},
   "source": [
    "## Conclusion "
   ]
  },
  {
   "cell_type": "code",
   "execution_count": 159,
   "metadata": {},
   "outputs": [
    {
     "data": {
      "text/html": [
       "<div>\n",
       "<style scoped>\n",
       "    .dataframe tbody tr th:only-of-type {\n",
       "        vertical-align: middle;\n",
       "    }\n",
       "\n",
       "    .dataframe tbody tr th {\n",
       "        vertical-align: top;\n",
       "    }\n",
       "\n",
       "    .dataframe thead th {\n",
       "        text-align: right;\n",
       "    }\n",
       "</style>\n",
       "<table border=\"1\" class=\"dataframe\">\n",
       "  <thead>\n",
       "    <tr style=\"text-align: right;\">\n",
       "      <th></th>\n",
       "      <th>Model</th>\n",
       "      <th>Recall</th>\n",
       "      <th>Accuracy</th>\n",
       "      <th>Precision</th>\n",
       "    </tr>\n",
       "  </thead>\n",
       "  <tbody>\n",
       "    <tr>\n",
       "      <td>0</td>\n",
       "      <td>Random Forest</td>\n",
       "      <td>0.963529</td>\n",
       "      <td>0.960070</td>\n",
       "      <td>0.956776</td>\n",
       "    </tr>\n",
       "    <tr>\n",
       "      <td>1</td>\n",
       "      <td>Gradient Boosting</td>\n",
       "      <td>0.885882</td>\n",
       "      <td>0.908984</td>\n",
       "      <td>0.928483</td>\n",
       "    </tr>\n",
       "    <tr>\n",
       "      <td>2</td>\n",
       "      <td>KNN</td>\n",
       "      <td>0.902353</td>\n",
       "      <td>0.830887</td>\n",
       "      <td>0.789095</td>\n",
       "    </tr>\n",
       "    <tr>\n",
       "      <td>3</td>\n",
       "      <td>Logistic Regression</td>\n",
       "      <td>0.754118</td>\n",
       "      <td>0.677041</td>\n",
       "      <td>0.652749</td>\n",
       "    </tr>\n",
       "  </tbody>\n",
       "</table>\n",
       "</div>"
      ],
      "text/plain": [
       "                 Model    Recall  Accuracy  Precision\n",
       "0        Random Forest  0.963529  0.960070   0.956776\n",
       "1    Gradient Boosting  0.885882  0.908984   0.928483\n",
       "2                  KNN  0.902353  0.830887   0.789095\n",
       "3  Logistic Regression  0.754118  0.677041   0.652749"
      ]
     },
     "execution_count": 159,
     "metadata": {},
     "output_type": "execute_result"
    }
   ],
   "source": [
    "models_comparison = pd.DataFrame({\n",
    "    'Model': ['Random Forest', 'Gradient Boosting', 'KNN', 'Logistic Regression'],\n",
    "    'Recall' : [recall1, recall2, recall3, recall4],\n",
    "    'Accuracy' : [acc1, acc2, acc3, acc4],\n",
    "    'Precision' : [prec1,prec2,prec3,prec4]})\n",
    "models_comparison"
   ]
  }
 ],
 "metadata": {
  "kernelspec": {
   "display_name": "Python 3",
   "language": "python",
   "name": "python3"
  },
  "language_info": {
   "codemirror_mode": {
    "name": "ipython",
    "version": 3
   },
   "file_extension": ".py",
   "mimetype": "text/x-python",
   "name": "python",
   "nbconvert_exporter": "python",
   "pygments_lexer": "ipython3",
   "version": "3.7.4"
  }
 },
 "nbformat": 4,
 "nbformat_minor": 2
}
